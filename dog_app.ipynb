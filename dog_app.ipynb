{
 "cells": [
  {
   "cell_type": "markdown",
   "metadata": {},
   "source": [
    "# Artificial Intelligence Nanodegree\n",
    "\n",
    "## Convolutional Neural Networks\n",
    "\n",
    "## Project: Write an Algorithm for a Dog Identification App \n",
    "\n",
    "---\n",
    "\n",
    "In this notebook, some template code has already been provided for you, and you will need to implement additional functionality to successfully complete this project. You will not need to modify the included code beyond what is requested. Sections that begin with **'(IMPLEMENTATION)'** in the header indicate that the following block of code will require additional functionality which you must provide. Instructions will be provided for each section, and the specifics of the implementation are marked in the code block with a 'TODO' statement. Please be sure to read the instructions carefully! \n",
    "\n",
    "> **Note**: Once you have completed all of the code implementations, you need to finalize your work by exporting the iPython Notebook as an HTML document. Before exporting the notebook to html, all of the code cells need to have been run so that reviewers can see the final implementation and output. You can then export the notebook by using the menu above and navigating to  \\n\",\n",
    "    \"**File -> Download as -> HTML (.html)**. Include the finished document along with this notebook as your submission.\n",
    "\n",
    "In addition to implementing code, there will be questions that you must answer which relate to the project and your implementation. Each section where you will answer a question is preceded by a **'Question X'** header. Carefully read each question and provide thorough answers in the following text boxes that begin with **'Answer:'**. Your project submission will be evaluated based on your answers to each of the questions and the implementation you provide.\n",
    "\n",
    ">**Note:** Code and Markdown cells can be executed using the **Shift + Enter** keyboard shortcut.  Markdown cells can be edited by double-clicking the cell to enter edit mode.\n",
    "\n",
    "The rubric contains _optional_ \"Stand Out Suggestions\" for enhancing the project beyond the minimum requirements. If you decide to pursue the \"Stand Out Suggestions\", you should include the code in this IPython notebook.\n",
    "\n",
    "\n",
    "\n",
    "---\n",
    "### Why We're Here \n",
    "\n",
    "In this notebook, you will make the first steps towards developing an algorithm that could be used as part of a mobile or web app.  At the end of this project, your code will accept any user-supplied image as input.  If a dog is detected in the image, it will provide an estimate of the dog's breed.  If a human is detected, it will provide an estimate of the dog breed that is most resembling.  The image below displays potential sample output of your finished project (... but we expect that each student's algorithm will behave differently!). \n",
    "\n",
    "![Sample Dog Output](images/sample_dog_output.png)\n",
    "\n",
    "In this real-world setting, you will need to piece together a series of models to perform different tasks; for instance, the algorithm that detects humans in an image will be different from the CNN that infers dog breed.  There are many points of possible failure, and no perfect algorithm exists.  Your imperfect solution will nonetheless create a fun user experience!\n",
    "\n",
    "### The Road Ahead\n",
    "\n",
    "We break the notebook into separate steps.  Feel free to use the links below to navigate the notebook.\n",
    "\n",
    "* [Step 0](#step0): Import Datasets\n",
    "* [Step 1](#step1): Detect Humans\n",
    "* [Step 2](#step2): Detect Dogs\n",
    "* [Step 3](#step3): Create a CNN to Classify Dog Breeds (from Scratch)\n",
    "* [Step 4](#step4): Use a CNN to Classify Dog Breeds (using Transfer Learning)\n",
    "* [Step 5](#step5): Create a CNN to Classify Dog Breeds (using Transfer Learning)\n",
    "* [Step 6](#step6): Write your Algorithm\n",
    "* [Step 7](#step7): Test Your Algorithm\n",
    "\n",
    "---\n",
    "<a id='step0'></a>\n",
    "## Step 0: Import Datasets\n",
    "\n",
    "### Import Dog Dataset\n",
    "\n",
    "In the code cell below, we import a dataset of dog images.  We populate a few variables through the use of the `load_files` function from the scikit-learn library:\n",
    "- `train_files`, `valid_files`, `test_files` - numpy arrays containing file paths to images\n",
    "- `train_targets`, `valid_targets`, `test_targets` - numpy arrays containing onehot-encoded classification labels \n",
    "- `dog_names` - list of string-valued dog breed names for translating labels"
   ]
  },
  {
   "cell_type": "code",
   "execution_count": 11,
   "metadata": {
    "collapsed": false
   },
   "outputs": [
    {
     "name": "stdout",
     "output_type": "stream",
     "text": [
      "There are 133 total dog categories.\n",
      "There are 8351 total dog images.\n",
      "\n",
      "There are 6680 training dog images.\n",
      "There are 835 validation dog images.\n",
      "There are 836 test dog images.\n"
     ]
    }
   ],
   "source": [
    "from sklearn.datasets import load_files       \n",
    "from keras.utils import np_utils\n",
    "import numpy as np\n",
    "from glob import glob\n",
    "\n",
    "# define function to load train, test, and validation datasets\n",
    "def load_dataset(path):\n",
    "    data = load_files(path)\n",
    "    dog_files = np.array(data['filenames'])\n",
    "    dog_targets = np_utils.to_categorical(np.array(data['target']), 133)\n",
    "    return dog_files, dog_targets\n",
    "\n",
    "# load train, test, and validation datasets\n",
    "train_files, train_targets = load_dataset('dogImages/train')\n",
    "valid_files, valid_targets = load_dataset('dogImages/valid')\n",
    "test_files, test_targets = load_dataset('dogImages/test')\n",
    "\n",
    "# load list of dog names\n",
    "dog_names = [item[20:-1] for item in sorted(glob(\"dogImages/train/*/\"))]\n",
    "\n",
    "# print statistics about the dataset\n",
    "print('There are %d total dog categories.' % len(dog_names))\n",
    "print('There are %s total dog images.\\n' % len(np.hstack([train_files, valid_files, test_files])))\n",
    "print('There are %d training dog images.' % len(train_files))\n",
    "print('There are %d validation dog images.' % len(valid_files))\n",
    "print('There are %d test dog images.'% len(test_files))"
   ]
  },
  {
   "cell_type": "markdown",
   "metadata": {},
   "source": [
    "### Import Human Dataset\n",
    "\n",
    "In the code cell below, we import a dataset of human images, where the file paths are stored in the numpy array `human_files`."
   ]
  },
  {
   "cell_type": "code",
   "execution_count": 8,
   "metadata": {
    "collapsed": false
   },
   "outputs": [
    {
     "name": "stdout",
     "output_type": "stream",
     "text": [
      "There are 13233 total human images.\n"
     ]
    }
   ],
   "source": [
    "import random\n",
    "random.seed(8675309)\n",
    "\n",
    "# load filenames in shuffled human dataset\n",
    "human_files = np.array(glob(\"lfw/*/*\"))\n",
    "random.shuffle(human_files)\n",
    "\n",
    "# print statistics about the dataset\n",
    "print('There are %d total human images.' % len(human_files))"
   ]
  },
  {
   "cell_type": "markdown",
   "metadata": {},
   "source": [
    "---\n",
    "<a id='step1'></a>\n",
    "## Step 1: Detect Humans\n",
    "\n",
    "We use OpenCV's implementation of [Haar feature-based cascade classifiers](http://docs.opencv.org/trunk/d7/d8b/tutorial_py_face_detection.html) to detect human faces in images.  OpenCV provides many pre-trained face detectors, stored as XML files on [github](https://github.com/opencv/opencv/tree/master/data/haarcascades).  We have downloaded one of these detectors and stored it in the `haarcascades` directory.\n",
    "\n",
    "In the next code cell, we demonstrate how to use this detector to find human faces in a sample image."
   ]
  },
  {
   "cell_type": "code",
   "execution_count": 13,
   "metadata": {
    "collapsed": false
   },
   "outputs": [
    {
     "name": "stdout",
     "output_type": "stream",
     "text": [
      "Number of faces detected: 1\n"
     ]
    },
    {
     "data": {
      "image/png": "[encoded data removed]",
      "text/plain": [
       "<matplotlib.figure.Figure at 0x7fae2ccb14e0>"
      ]
     },
     "metadata": {},
     "output_type": "display_data"
    }
   ],
   "source": [
    "import cv2                \n",
    "import matplotlib.pyplot as plt                        \n",
    "%matplotlib inline                               \n",
    "\n",
    "# extract pre-trained face detector\n",
    "face_cascade = cv2.CascadeClassifier('haarcascades/haarcascade_frontalface_alt.xml')\n",
    "\n",
    "# load color (BGR) image\n",
    "img = cv2.imread(human_files[5])\n",
    "# convert BGR image to grayscale\n",
    "gray = cv2.cvtColor(img, cv2.COLOR_BGR2GRAY)\n",
    "\n",
    "# find faces in image\n",
    "faces = face_cascade.detectMultiScale(gray)\n",
    "\n",
    "# print number of faces detected in the image\n",
    "print('Number of faces detected:', len(faces))\n",
    "\n",
    "# get bounding box for each detected face\n",
    "for (x,y,w,h) in faces:\n",
    "    # add bounding box to color image\n",
    "    cv2.rectangle(img,(x,y),(x+w,y+h),(255,0,0),2)\n",
    "    \n",
    "# convert BGR image to RGB for plotting\n",
    "cv_rgb = cv2.cvtColor(img, cv2.COLOR_BGR2RGB)\n",
    "\n",
    "# display the image, along with bounding box\n",
    "plt.imshow(cv_rgb)\n",
    "plt.show()"
   ]
  },
  {
   "cell_type": "markdown",
   "metadata": {},
   "source": [
    "Before using any of the face detectors, it is standard procedure to convert the images to grayscale.  The `detectMultiScale` function executes the classifier stored in `face_cascade` and takes the grayscale image as a parameter.  \n",
    "\n",
    "In the above code, `faces` is a numpy array of detected faces, where each row corresponds to a detected face.  Each detected face is a 1D array with four entries that specifies the bounding box of the detected face.  The first two entries in the array (extracted in the above code as `x` and `y`) specify the horizontal and vertical positions of the top left corner of the bounding box.  The last two entries in the array (extracted here as `w` and `h`) specify the width and height of the box.\n",
    "\n",
    "### Write a Human Face Detector\n",
    "\n",
    "We can use this procedure to write a function that returns `True` if a human face is detected in an image and `False` otherwise.  This function, aptly named `face_detector`, takes a string-valued file path to an image as input and appears in the code block below."
   ]
  },
  {
   "cell_type": "code",
   "execution_count": 14,
   "metadata": {
    "collapsed": true
   },
   "outputs": [],
   "source": [
    "# returns \"True\" if face is detected in image stored at img_path\n",
    "def face_detector(img_path):\n",
    "    img = cv2.imread(img_path)\n",
    "    gray = cv2.cvtColor(img, cv2.COLOR_BGR2GRAY)\n",
    "    faces = face_cascade.detectMultiScale(gray)\n",
    "    return len(faces) > 0"
   ]
  },
  {
   "cell_type": "markdown",
   "metadata": {},
   "source": [
    "### (IMPLEMENTATION) Assess the Human Face Detector\n",
    "\n",
    "__Question 1:__ Use the code cell below to test the performance of the `face_detector` function.  \n",
    "- What percentage of the first 100 images in `human_files` have a detected human face?  \n",
    "- What percentage of the first 100 images in `dog_files` have a detected human face? \n",
    "\n",
    "Ideally, we would like 100% of human images with a detected face and 0% of dog images with a detected face.  You will see that our algorithm falls short of this goal, but still gives acceptable performance.  We extract the file paths for the first 100 images from each of the datasets and store them in the numpy arrays `human_files_short` and `dog_files_short`.\n",
    "\n",
    "__Answer:__ "
   ]
  },
  {
   "cell_type": "code",
   "execution_count": 15,
   "metadata": {
    "collapsed": false
   },
   "outputs": [
    {
     "name": "stdout",
     "output_type": "stream",
     "text": [
      "99.0 % of dog faces detected in human files.\n",
      "11.0 % of dog faces detected in dog files.\n"
     ]
    }
   ],
   "source": [
    "human_files_short = human_files[:100]\n",
    "dog_files_short = train_files[:100]\n",
    "# Do NOT modify the code above this line.\n",
    "human_file_detection = sum(face_detector(human_file)==True for human_file in human_files_short)\n",
    "dog_file_detection = sum(face_detector(dog_file)==True for dog_file in dog_files_short)\n",
    "\n",
    "print (\"{} % of dog faces detected in human files.\".format(human_file_detection/len(human_files_short)*100))\n",
    "print (\"{} % of dog faces detected in dog files.\".format(dog_file_detection/len(dog_files_short)*100))\n",
    "## TODO: Test the performance of the face_detector algorithm \n",
    "## on the images in human_files_short and dog_files_short."
   ]
  },
  {
   "cell_type": "markdown",
   "metadata": {},
   "source": [
    "__Question 2:__ This algorithmic choice necessitates that we communicate to the user that we accept human images only when they provide a clear view of a face (otherwise, we risk having unneccessarily frustrated users!). In your opinion, is this a reasonable expectation to pose on the user? If not, can you think of a way to detect humans in images that does not necessitate an image with a clearly presented face?\n",
    "\n",
    "__Answer:__\n",
    "\n",
    "We suggest the face detector from OpenCV as a potential way to detect human images in your algorithm, but you are free to explore other approaches, especially approaches that make use of deep learning :).  Please use the code cell below to design and test your own face detection algorithm.  If you decide to pursue this _optional_ task, report performance on each of the datasets."
   ]
  },
  {
   "cell_type": "code",
   "execution_count": 22,
   "metadata": {
    "collapsed": true
   },
   "outputs": [],
   "source": [
    "## (Optional) TODO: Report the performance of another  \n",
    "## face detection algorithm on the LFW dataset\n",
    "### Feel free to use as many code cells as needed."
   ]
  },
  {
   "cell_type": "markdown",
   "metadata": {},
   "source": [
    "---\n",
    "<a id='step2'></a>\n",
    "## Step 2: Detect Dogs\n",
    "\n",
    "In this section, we use a pre-trained [ResNet-50](http://ethereon.github.io/netscope/#/gist/db945b393d40bfa26006) model to detect dogs in images.  Our first line of code downloads the ResNet-50 model, along with weights that have been trained on [ImageNet](http://www.image-net.org/), a very large, very popular dataset used for image classification and other vision tasks.  ImageNet contains over 10 million URLs, each linking to an image containing an object from one of [1000 categories](https://gist.github.com/yrevar/942d3a0ac09ec9e5eb3a).  Given an image, this pre-trained ResNet-50 model returns a prediction (derived from the available categories in ImageNet) for the object that is contained in the image."
   ]
  },
  {
   "cell_type": "code",
   "execution_count": 16,
   "metadata": {
    "collapsed": false
   },
   "outputs": [],
   "source": [
    "from keras.applications.resnet50 import ResNet50\n",
    "\n",
    "# define ResNet50 model\n",
    "ResNet50_model = ResNet50(weights='imagenet')"
   ]
  },
  {
   "cell_type": "markdown",
   "metadata": {},
   "source": [
    "### Pre-process the Data\n",
    "\n",
    "When using TensorFlow as backend, Keras CNNs require a 4D array (which we'll also refer to as a 4D tensor) as input, with shape\n",
    "\n",
    "$$\n",
    "(\\text{nb_samples}, \\text{rows}, \\text{columns}, \\text{channels}),\n",
    "$$\n",
    "\n",
    "where `nb_samples` corresponds to the total number of images (or samples), and `rows`, `columns`, and `channels` correspond to the number of rows, columns, and channels for each image, respectively.  \n",
    "\n",
    "The `path_to_tensor` function below takes a string-valued file path to a color image as input and returns a 4D tensor suitable for supplying to a Keras CNN.  The function first loads the image and resizes it to a square image that is $224 \\times 224$ pixels.  Next, the image is converted to an array, which is then resized to a 4D tensor.  In this case, since we are working with color images, each image has three channels.  Likewise, since we are processing a single image (or sample), the returned tensor will always have shape\n",
    "\n",
    "$$\n",
    "(1, 224, 224, 3).\n",
    "$$\n",
    "\n",
    "The `paths_to_tensor` function takes a numpy array of string-valued image paths as input and returns a 4D tensor with shape \n",
    "\n",
    "$$\n",
    "(\\text{nb_samples}, 224, 224, 3).\n",
    "$$\n",
    "\n",
    "Here, `nb_samples` is the number of samples, or number of images, in the supplied array of image paths.  It is best to think of `nb_samples` as the number of 3D tensors (where each 3D tensor corresponds to a different image) in your dataset!"
   ]
  },
  {
   "cell_type": "code",
   "execution_count": 17,
   "metadata": {
    "collapsed": true
   },
   "outputs": [],
   "source": [
    "from keras.preprocessing import image                  \n",
    "from tqdm import tqdm\n",
    "\n",
    "def path_to_tensor(img_path):\n",
    "    # loads RGB image as PIL.Image.Image type\n",
    "    img = image.load_img(img_path, target_size=(224, 224))\n",
    "    # convert PIL.Image.Image type to 3D tensor with shape (224, 224, 3)\n",
    "    x = image.img_to_array(img)\n",
    "    # convert 3D tensor to 4D tensor with shape (1, 224, 224, 3) and return 4D tensor\n",
    "    return np.expand_dims(x, axis=0)\n",
    "\n",
    "def paths_to_tensor(img_paths):\n",
    "    list_of_tensors = [path_to_tensor(img_path) for img_path in tqdm(img_paths)]\n",
    "    return np.vstack(list_of_tensors)"
   ]
  },
  {
   "cell_type": "markdown",
   "metadata": {},
   "source": [
    "### Making Predictions with ResNet-50\n",
    "\n",
    "Getting the 4D tensor ready for ResNet-50, and for any other pre-trained model in Keras, requires some additional processing.  First, the RGB image is converted to BGR by reordering the channels.  All pre-trained models have the additional normalization step that the mean pixel (expressed in RGB as $[103.939, 116.779, 123.68]$ and calculated from all pixels in all images in ImageNet) must be subtracted from every pixel in each image.  This is implemented in the imported function `preprocess_input`.  If you're curious, you can check the code for `preprocess_input` [here](https://github.com/fchollet/keras/blob/master/keras/applications/imagenet_utils.py).\n",
    "\n",
    "Now that we have a way to format our image for supplying to ResNet-50, we are now ready to use the model to extract the predictions.  This is accomplished with the `predict` method, which returns an array whose $i$-th entry is the model's predicted probability that the image belongs to the $i$-th ImageNet category.  This is implemented in the `ResNet50_predict_labels` function below.\n",
    "\n",
    "By taking the argmax of the predicted probability vector, we obtain an integer corresponding to the model's predicted object class, which we can identify with an object category through the use of this [dictionary](https://gist.github.com/yrevar/942d3a0ac09ec9e5eb3a). "
   ]
  },
  {
   "cell_type": "code",
   "execution_count": 18,
   "metadata": {
    "collapsed": true
   },
   "outputs": [],
   "source": [
    "from keras.applications.resnet50 import preprocess_input, decode_predictions\n",
    "\n",
    "def ResNet50_predict_labels(img_path):\n",
    "    # returns prediction vector for image located at img_path\n",
    "    img = preprocess_input(path_to_tensor(img_path))\n",
    "    return np.argmax(ResNet50_model.predict(img))"
   ]
  },
  {
   "cell_type": "markdown",
   "metadata": {},
   "source": [
    "### Write a Dog Detector\n",
    "\n",
    "While looking at the [dictionary](https://gist.github.com/yrevar/942d3a0ac09ec9e5eb3a), you will notice that the categories corresponding to dogs appear in an uninterrupted sequence and correspond to dictionary keys 151-268, inclusive, to include all categories from `'Chihuahua'` to `'Mexican hairless'`.  Thus, in order to check to see if an image is predicted to contain a dog by the pre-trained ResNet-50 model, we need only check if the `ResNet50_predict_labels` function above returns a value between 151 and 268 (inclusive).\n",
    "\n",
    "We use these ideas to complete the `dog_detector` function below, which returns `True` if a dog is detected in an image (and `False` if not)."
   ]
  },
  {
   "cell_type": "code",
   "execution_count": 19,
   "metadata": {
    "collapsed": true
   },
   "outputs": [],
   "source": [
    "### returns \"True\" if a dog is detected in the image stored at img_path\n",
    "def dog_detector(img_path):\n",
    "    prediction = ResNet50_predict_labels(img_path)\n",
    "    return ((prediction <= 268) & (prediction >= 151)) "
   ]
  },
  {
   "cell_type": "markdown",
   "metadata": {},
   "source": [
    "### (IMPLEMENTATION) Assess the Dog Detector\n",
    "\n",
    "__Question 3:__ Use the code cell below to test the performance of your `dog_detector` function.  \n",
    "- What percentage of the images in `human_files_short` have a detected dog?  \n",
    "- What percentage of the images in `dog_files_short` have a detected dog?\n",
    "\n",
    "__Answer:__ "
   ]
  },
  {
   "cell_type": "code",
   "execution_count": 20,
   "metadata": {
    "collapsed": false
   },
   "outputs": [
    {
     "name": "stdout",
     "output_type": "stream",
     "text": [
      "2.0 % of dog faces detected in human files.\n",
      "99.0 % of dog faces detected in dog files.\n"
     ]
    }
   ],
   "source": [
    "### TODO: Test the performance of the dog_detector function\n",
    "### on the images in human_files_short and dog_files_short.\n",
    "human_file_detection = sum(dog_detector(human_file)==True for human_file in human_files_short)\n",
    "dog_file_detection = sum(dog_detector(dog_file)==True for dog_file in dog_files_short)\n",
    "\n",
    "print (\"{} % of dog faces detected in human files.\".format(human_file_detection/len(human_files_short)*100))\n",
    "print (\"{} % of dog faces detected in dog files.\".format(dog_file_detection/len(dog_files_short)*100))"
   ]
  },
  {
   "cell_type": "markdown",
   "metadata": {},
   "source": [
    "---\n",
    "<a id='step3'></a>\n",
    "## Step 3: Create a CNN to Classify Dog Breeds (from Scratch)\n",
    "\n",
    "Now that we have functions for detecting humans and dogs in images, we need a way to predict breed from images.  In this step, you will create a CNN that classifies dog breeds.  You must create your CNN _from scratch_ (so, you can't use transfer learning _yet_!), and you must attain a test accuracy of at least 1%.  In Step 5 of this notebook, you will have the opportunity to use transfer learning to create a CNN that attains greatly improved accuracy.\n",
    "\n",
    "Be careful with adding too many trainable layers!  More parameters means longer training, which means you are more likely to need a GPU to accelerate the training process.  Thankfully, Keras provides a handy estimate of the time that each epoch is likely to take; you can extrapolate this estimate to figure out how long it will take for your algorithm to train. \n",
    "\n",
    "We mention that the task of assigning breed to dogs from images is considered exceptionally challenging.  To see why, consider that *even a human* would have great difficulty in distinguishing between a Brittany and a Welsh Springer Spaniel.  \n",
    "\n",
    "Brittany | Welsh Springer Spaniel\n",
    "- | - \n",
    "<img src=\"images/Brittany_02625.jpg\" width=\"100\"> | <img src=\"images/Welsh_springer_spaniel_08203.jpg\" width=\"200\">\n",
    "\n",
    "It is not difficult to find other dog breed pairs with minimal inter-class variation (for instance, Curly-Coated Retrievers and American Water Spaniels).  \n",
    "\n",
    "Curly-Coated Retriever | American Water Spaniel\n",
    "- | -\n",
    "<img src=\"images/Curly-coated_retriever_03896.jpg\" width=\"200\"> | <img src=\"images/American_water_spaniel_00648.jpg\" width=\"200\">\n",
    "\n",
    "\n",
    "Likewise, recall that labradors come in yellow, chocolate, and black.  Your vision-based algorithm will have to conquer this high intra-class variation to determine how to classify all of these different shades as the same breed.  \n",
    "\n",
    "Yellow Labrador | Chocolate Labrador | Black Labrador\n",
    "- | -\n",
    "<img src=\"images/Labrador_retriever_06457.jpg\" width=\"150\"> | <img src=\"images/Labrador_retriever_06455.jpg\" width=\"240\"> | <img src=\"images/Labrador_retriever_06449.jpg\" width=\"220\">\n",
    "\n",
    "We also mention that random chance presents an exceptionally low bar: setting aside the fact that the classes are slightly imabalanced, a random guess will provide a correct answer roughly 1 in 133 times, which corresponds to an accuracy of less than 1%.  \n",
    "\n",
    "Remember that the practice is far ahead of the theory in deep learning.  Experiment with many different architectures, and trust your intuition.  And, of course, have fun! \n",
    "\n",
    "### Pre-process the Data\n",
    "\n",
    "We rescale the images by dividing every pixel in every image by 255."
   ]
  },
  {
   "cell_type": "code",
   "execution_count": 21,
   "metadata": {
    "collapsed": false
   },
   "outputs": [
    {
     "name": "stderr",
     "output_type": "stream",
     "text": [
      "100%|██████████| 6680/6680 [00:23<00:00, 283.14it/s]\n",
      "100%|██████████| 835/835 [00:02<00:00, 312.32it/s]\n",
      "100%|██████████| 836/836 [00:02<00:00, 307.69it/s]\n"
     ]
    }
   ],
   "source": [
    "from PIL import ImageFile                            \n",
    "ImageFile.LOAD_TRUNCATED_IMAGES = True                 \n",
    "\n",
    "# pre-process the data for Keras\n",
    "train_tensors = paths_to_tensor(train_files).astype('float32')/255\n",
    "valid_tensors = paths_to_tensor(valid_files).astype('float32')/255\n",
    "test_tensors = paths_to_tensor(test_files).astype('float32')/255"
   ]
  },
  {
   "cell_type": "markdown",
   "metadata": {},
   "source": [
    "### (IMPLEMENTATION) Model Architecture\n",
    "\n",
    "Create a CNN to classify dog breed.  At the end of your code cell block, summarize the layers of your model by executing the line:\n",
    "    \n",
    "        model.summary()\n",
    "\n",
    "We have imported some Python modules to get you started, but feel free to import as many modules as you need.  If you end up getting stuck, here's a hint that specifies a model that trains relatively fast on CPU and attains >1% test accuracy in 5 epochs:\n",
    "\n",
    "![Sample CNN](images/sample_cnn.png)\n",
    "           \n",
    "__Question 4:__ Outline the steps you took to get to your final CNN architecture and your reasoning at each step.  If you chose to use the hinted architecture above, describe why you think that CNN architecture should work well for the image classification task.\n",
    "\n",
    "__Answer:__ "
   ]
  },
  {
   "cell_type": "code",
   "execution_count": 22,
   "metadata": {
    "collapsed": false
   },
   "outputs": [
    {
     "name": "stdout",
     "output_type": "stream",
     "text": [
      "_________________________________________________________________\n",
      "Layer (type)                 Output Shape              Param #   \n",
      "=================================================================\n",
      "conv2d_1 (Conv2D)            (None, 224, 224, 32)      896       \n",
      "_________________________________________________________________\n",
      "max_pooling2d_2 (MaxPooling2 (None, 74, 74, 32)        0         \n",
      "_________________________________________________________________\n",
      "conv2d_2 (Conv2D)            (None, 74, 74, 32)        9248      \n",
      "_________________________________________________________________\n",
      "max_pooling2d_3 (MaxPooling2 (None, 24, 24, 32)        0         \n",
      "_________________________________________________________________\n",
      "dropout_1 (Dropout)          (None, 24, 24, 32)        0         \n",
      "_________________________________________________________________\n",
      "conv2d_3 (Conv2D)            (None, 24, 24, 16)        4624      \n",
      "_________________________________________________________________\n",
      "max_pooling2d_4 (MaxPooling2 (None, 12, 12, 16)        0         \n",
      "_________________________________________________________________\n",
      "conv2d_4 (Conv2D)            (None, 12, 12, 12)        1740      \n",
      "_________________________________________________________________\n",
      "max_pooling2d_5 (MaxPooling2 (None, 6, 6, 12)          0         \n",
      "_________________________________________________________________\n",
      "dropout_2 (Dropout)          (None, 6, 6, 12)          0         \n",
      "_________________________________________________________________\n",
      "flatten_2 (Flatten)          (None, 432)               0         \n",
      "_________________________________________________________________\n",
      "dense_1 (Dense)              (None, 512)               221696    \n",
      "_________________________________________________________________\n",
      "dropout_3 (Dropout)          (None, 512)               0         \n",
      "_________________________________________________________________\n",
      "dense_2 (Dense)              (None, 133)               68229     \n",
      "=================================================================\n",
      "Total params: 306,433\n",
      "Trainable params: 306,433\n",
      "Non-trainable params: 0\n",
      "_________________________________________________________________\n"
     ]
    }
   ],
   "source": [
    "from keras.layers import Conv2D, MaxPooling2D, GlobalAveragePooling2D\n",
    "from keras.layers import Dropout, Flatten, Dense\n",
    "from keras.models import Sequential\n",
    "\n",
    "model = Sequential()\n",
    "\n",
    "### TODO: Define your architecture.\n",
    "### JORCUS NOTE ###\n",
    "model.add(Conv2D(filters=32,kernel_size=3,padding='same',activation='relu',input_shape=(224,224,3)))\n",
    "model.add(MaxPooling2D(pool_size=3))\n",
    "model.add(Conv2D(filters=32,kernel_size=3,padding='same',activation='relu'))\n",
    "model.add(MaxPooling2D(pool_size=3))\n",
    "model.add(Dropout(0.2))\n",
    "model.add(Conv2D(filters=16,kernel_size=3,padding='same',activation='relu'))\n",
    "model.add(MaxPooling2D(pool_size=2))\n",
    "model.add(Conv2D(filters=12,kernel_size=3,padding='same',activation='relu'))\n",
    "model.add(MaxPooling2D(pool_size=2))\n",
    "model.add(Dropout(0.2))\n",
    "model.add(Flatten())\n",
    "model.add(Dense(512,activation='relu'))\n",
    "model.add(Dropout(0.2))\n",
    "model.add(Dense(133,activation='softmax')) # total number of catagories\n",
    "\n",
    "model.summary()"
   ]
  },
  {
   "cell_type": "markdown",
   "metadata": {},
   "source": [
    "### Compile the Model"
   ]
  },
  {
   "cell_type": "code",
   "execution_count": 23,
   "metadata": {
    "collapsed": true
   },
   "outputs": [],
   "source": [
    "model.compile(optimizer='rmsprop', loss='categorical_crossentropy', metrics=['accuracy'])"
   ]
  },
  {
   "cell_type": "markdown",
   "metadata": {},
   "source": [
    "### (IMPLEMENTATION) Train the Model\n",
    "\n",
    "Train your model in the code cell below.  Use model checkpointing to save the model that attains the best validation loss.\n",
    "\n",
    "You are welcome to [augment the training data](https://blog.keras.io/building-powerful-image-classification-models-using-very-little-data.html), but this is not a requirement. "
   ]
  },
  {
   "cell_type": "code",
   "execution_count": 24,
   "metadata": {
    "collapsed": false
   },
   "outputs": [
    {
     "name": "stdout",
     "output_type": "stream",
     "text": [
      "Train on 6680 samples, validate on 835 samples\n",
      "Epoch 1/50\n",
      "6660/6680 [============================>.] - ETA: 0s - loss: 4.8742 - acc: 0.0105Epoch 00000: val_loss improved from inf to 4.77549, saving model to saved_models/weights.best.from_scratch.hdf5\n",
      "6680/6680 [==============================] - 10s - loss: 4.8740 - acc: 0.0105 - val_loss: 4.7755 - val_acc: 0.0347\n",
      "Epoch 2/50\n",
      "6660/6680 [============================>.] - ETA: 0s - loss: 4.5625 - acc: 0.0425Epoch 00001: val_loss improved from 4.77549 to 4.35211, saving model to saved_models/weights.best.from_scratch.hdf5\n",
      "6680/6680 [==============================] - 9s - loss: 4.5617 - acc: 0.0427 - val_loss: 4.3521 - val_acc: 0.0515\n",
      "Epoch 3/50\n",
      "6660/6680 [============================>.] - ETA: 0s - loss: 4.2442 - acc: 0.0605Epoch 00002: val_loss improved from 4.35211 to 4.19008, saving model to saved_models/weights.best.from_scratch.hdf5\n",
      "6680/6680 [==============================] - 9s - loss: 4.2431 - acc: 0.0608 - val_loss: 4.1901 - val_acc: 0.0551\n",
      "Epoch 4/50\n",
      "6660/6680 [============================>.] - ETA: 0s - loss: 4.0480 - acc: 0.0913Epoch 00003: val_loss improved from 4.19008 to 4.09582, saving model to saved_models/weights.best.from_scratch.hdf5\n",
      "6680/6680 [==============================] - 9s - loss: 4.0477 - acc: 0.0913 - val_loss: 4.0958 - val_acc: 0.0790\n",
      "Epoch 5/50\n",
      "6660/6680 [============================>.] - ETA: 0s - loss: 3.8980 - acc: 0.1101Epoch 00004: val_loss improved from 4.09582 to 4.01730, saving model to saved_models/weights.best.from_scratch.hdf5\n",
      "6680/6680 [==============================] - 9s - loss: 3.8974 - acc: 0.1105 - val_loss: 4.0173 - val_acc: 0.0886\n",
      "Epoch 6/50\n",
      "6660/6680 [============================>.] - ETA: 0s - loss: 3.7133 - acc: 0.1417Epoch 00005: val_loss improved from 4.01730 to 3.95036, saving model to saved_models/weights.best.from_scratch.hdf5\n",
      "6680/6680 [==============================] - 9s - loss: 3.7128 - acc: 0.1418 - val_loss: 3.9504 - val_acc: 0.1030\n",
      "Epoch 7/50\n",
      "6660/6680 [============================>.] - ETA: 0s - loss: 3.5491 - acc: 0.1565Epoch 00006: val_loss did not improve\n",
      "6680/6680 [==============================] - 9s - loss: 3.5488 - acc: 0.1567 - val_loss: 3.9825 - val_acc: 0.0970\n",
      "Epoch 8/50\n",
      "6660/6680 [============================>.] - ETA: 0s - loss: 3.4112 - acc: 0.1805Epoch 00007: val_loss improved from 3.95036 to 3.92520, saving model to saved_models/weights.best.from_scratch.hdf5\n",
      "6680/6680 [==============================] - 9s - loss: 3.4106 - acc: 0.1804 - val_loss: 3.9252 - val_acc: 0.1054\n",
      "Epoch 9/50\n",
      "6660/6680 [============================>.] - ETA: 0s - loss: 3.2482 - acc: 0.2146Epoch 00008: val_loss did not improve\n",
      "6680/6680 [==============================] - 9s - loss: 3.2464 - acc: 0.2151 - val_loss: 3.9276 - val_acc: 0.1138\n",
      "Epoch 10/50\n",
      "6660/6680 [============================>.] - ETA: 0s - loss: 3.1026 - acc: 0.2443Epoch 00009: val_loss did not improve\n",
      "6680/6680 [==============================] - 10s - loss: 3.1029 - acc: 0.2443 - val_loss: 4.0751 - val_acc: 0.1138\n",
      "Epoch 11/50\n",
      "6660/6680 [============================>.] - ETA: 0s - loss: 2.9550 - acc: 0.2769Epoch 00010: val_loss did not improve\n",
      "6680/6680 [==============================] - 9s - loss: 2.9526 - acc: 0.2775 - val_loss: 3.9451 - val_acc: 0.1126\n",
      "Epoch 12/50\n",
      "6660/6680 [============================>.] - ETA: 0s - loss: 2.7956 - acc: 0.3038Epoch 00011: val_loss did not improve\n",
      "6680/6680 [==============================] - 9s - loss: 2.7949 - acc: 0.3036 - val_loss: 4.0190 - val_acc: 0.1186\n",
      "Epoch 13/50\n",
      "6660/6680 [============================>.] - ETA: 0s - loss: 2.6628 - acc: 0.3242Epoch 00012: val_loss did not improve\n",
      "6680/6680 [==============================] - 9s - loss: 2.6620 - acc: 0.3243 - val_loss: 4.1387 - val_acc: 0.1138\n",
      "Epoch 14/50\n",
      "6660/6680 [============================>.] - ETA: 0s - loss: 2.5402 - acc: 0.3488Epoch 00013: val_loss did not improve\n",
      "6680/6680 [==============================] - 9s - loss: 2.5417 - acc: 0.3482 - val_loss: 4.1558 - val_acc: 0.1090\n",
      "Epoch 15/50\n",
      "6660/6680 [============================>.] - ETA: 0s - loss: 2.4185 - acc: 0.3824Epoch 00014: val_loss did not improve\n",
      "6680/6680 [==============================] - 9s - loss: 2.4192 - acc: 0.3825 - val_loss: 4.0140 - val_acc: 0.1078\n",
      "Epoch 16/50\n",
      "6660/6680 [============================>.] - ETA: 0s - loss: 2.2789 - acc: 0.4050Epoch 00015: val_loss did not improve\n",
      "6680/6680 [==============================] - 9s - loss: 2.2795 - acc: 0.4048 - val_loss: 4.1674 - val_acc: 0.1054\n",
      "Epoch 17/50\n",
      "6660/6680 [============================>.] - ETA: 0s - loss: 2.1794 - acc: 0.4309Epoch 00016: val_loss did not improve\n",
      "6680/6680 [==============================] - 10s - loss: 2.1802 - acc: 0.4307 - val_loss: 4.2987 - val_acc: 0.1090\n",
      "Epoch 18/50\n",
      "6660/6680 [============================>.] - ETA: 0s - loss: 2.0659 - acc: 0.4592Epoch 00017: val_loss did not improve\n",
      "6680/6680 [==============================] - 9s - loss: 2.0658 - acc: 0.4594 - val_loss: 4.4893 - val_acc: 0.1126\n",
      "Epoch 19/50\n",
      "6660/6680 [============================>.] - ETA: 0s - loss: 1.9527 - acc: 0.4778Epoch 00018: val_loss did not improve\n",
      "6680/6680 [==============================] - 9s - loss: 1.9544 - acc: 0.4775 - val_loss: 4.5975 - val_acc: 0.1066\n",
      "Epoch 20/50\n",
      "6660/6680 [============================>.] - ETA: 0s - loss: 1.8488 - acc: 0.5047Epoch 00019: val_loss did not improve\n",
      "6680/6680 [==============================] - 9s - loss: 1.8490 - acc: 0.5048 - val_loss: 4.4643 - val_acc: 0.1222\n",
      "Epoch 21/50\n",
      "6660/6680 [============================>.] - ETA: 0s - loss: 1.7714 - acc: 0.5264Epoch 00020: val_loss did not improve\n",
      "6680/6680 [==============================] - 9s - loss: 1.7714 - acc: 0.5260 - val_loss: 4.6396 - val_acc: 0.1150\n",
      "Epoch 22/50\n",
      "6660/6680 [============================>.] - ETA: 0s - loss: 1.6735 - acc: 0.5401Epoch 00021: val_loss did not improve\n",
      "6680/6680 [==============================] - 9s - loss: 1.6725 - acc: 0.5406 - val_loss: 5.0128 - val_acc: 0.1042\n",
      "Epoch 23/50\n",
      "6660/6680 [============================>.] - ETA: 0s - loss: 1.6002 - acc: 0.5538Epoch 00022: val_loss did not improve\n",
      "6680/6680 [==============================] - 9s - loss: 1.6000 - acc: 0.5543 - val_loss: 4.8741 - val_acc: 0.1198\n",
      "Epoch 24/50\n",
      "6660/6680 [============================>.] - ETA: 0s - loss: 1.5075 - acc: 0.5763Epoch 00023: val_loss did not improve\n",
      "6680/6680 [==============================] - 9s - loss: 1.5084 - acc: 0.5762 - val_loss: 4.7855 - val_acc: 0.1174\n",
      "Epoch 25/50\n",
      "6660/6680 [============================>.] - ETA: 0s - loss: 1.4914 - acc: 0.5839Epoch 00024: val_loss did not improve\n",
      "6680/6680 [==============================] - 9s - loss: 1.4905 - acc: 0.5841 - val_loss: 5.0988 - val_acc: 0.1198\n",
      "Epoch 26/50\n",
      "6660/6680 [============================>.] - ETA: 0s - loss: 1.4045 - acc: 0.6066Epoch 00025: val_loss did not improve\n",
      "6680/6680 [==============================] - 9s - loss: 1.4050 - acc: 0.6064 - val_loss: 5.1651 - val_acc: 0.1138\n",
      "Epoch 27/50\n",
      "6660/6680 [============================>.] - ETA: 0s - loss: 1.3754 - acc: 0.6153Epoch 00026: val_loss did not improve\n",
      "6680/6680 [==============================] - 9s - loss: 1.3761 - acc: 0.6148 - val_loss: 4.8766 - val_acc: 0.1186\n",
      "Epoch 28/50\n",
      "6660/6680 [============================>.] - ETA: 0s - loss: 1.3180 - acc: 0.6258Epoch 00027: val_loss did not improve\n",
      "6680/6680 [==============================] - 9s - loss: 1.3185 - acc: 0.6254 - val_loss: 5.2435 - val_acc: 0.1126\n",
      "Epoch 29/50\n",
      "6660/6680 [============================>.] - ETA: 0s - loss: 1.2500 - acc: 0.6495Epoch 00028: val_loss did not improve\n",
      "6680/6680 [==============================] - 9s - loss: 1.2503 - acc: 0.6497 - val_loss: 5.3941 - val_acc: 0.1102\n",
      "Epoch 30/50\n",
      "6660/6680 [============================>.] - ETA: 0s - loss: 1.2019 - acc: 0.6539Epoch 00029: val_loss did not improve\n",
      "6680/6680 [==============================] - 9s - loss: 1.2006 - acc: 0.6543 - val_loss: 5.3524 - val_acc: 0.1269\n",
      "Epoch 31/50\n",
      "6660/6680 [============================>.] - ETA: 0s - loss: 1.1580 - acc: 0.6641Epoch 00030: val_loss did not improve\n",
      "6680/6680 [==============================] - 9s - loss: 1.1579 - acc: 0.6642 - val_loss: 5.4475 - val_acc: 0.1126\n",
      "Epoch 32/50\n",
      "6660/6680 [============================>.] - ETA: 0s - loss: 1.1541 - acc: 0.6731Epoch 00031: val_loss did not improve\n",
      "6680/6680 [==============================] - 9s - loss: 1.1527 - acc: 0.6734 - val_loss: 5.2266 - val_acc: 0.1162\n",
      "Epoch 33/50\n",
      "6660/6680 [============================>.] - ETA: 0s - loss: 1.0889 - acc: 0.6866Epoch 00032: val_loss did not improve\n",
      "6680/6680 [==============================] - 9s - loss: 1.0881 - acc: 0.6870 - val_loss: 5.3962 - val_acc: 0.1174\n",
      "Epoch 34/50\n",
      "6660/6680 [============================>.] - ETA: 0s - loss: 1.0908 - acc: 0.6902Epoch 00033: val_loss did not improve\n",
      "6680/6680 [==============================] - 9s - loss: 1.0915 - acc: 0.6901 - val_loss: 5.3198 - val_acc: 0.1186\n",
      "Epoch 35/50\n",
      "6660/6680 [============================>.] - ETA: 0s - loss: 1.0156 - acc: 0.7132Epoch 00034: val_loss did not improve\n",
      "6680/6680 [==============================] - 9s - loss: 1.0153 - acc: 0.7132 - val_loss: 5.5787 - val_acc: 0.0958\n",
      "Epoch 36/50\n",
      "6660/6680 [============================>.] - ETA: 0s - loss: 1.0234 - acc: 0.7081Epoch 00035: val_loss did not improve\n",
      "6680/6680 [==============================] - 9s - loss: 1.0248 - acc: 0.7079 - val_loss: 5.2549 - val_acc: 0.1162\n",
      "Epoch 37/50\n",
      "6660/6680 [============================>.] - ETA: 0s - loss: 0.9703 - acc: 0.7143Epoch 00036: val_loss did not improve\n",
      "6680/6680 [==============================] - 9s - loss: 0.9697 - acc: 0.7145 - val_loss: 5.5463 - val_acc: 0.1078\n",
      "Epoch 38/50\n",
      "6660/6680 [============================>.] - ETA: 0s - loss: 0.9499 - acc: 0.7278Epoch 00037: val_loss did not improve\n",
      "6680/6680 [==============================] - 9s - loss: 0.9510 - acc: 0.7275 - val_loss: 5.5753 - val_acc: 0.1114\n",
      "Epoch 39/50\n",
      "6660/6680 [============================>.] - ETA: 0s - loss: 0.9166 - acc: 0.7389Epoch 00038: val_loss did not improve\n",
      "6680/6680 [==============================] - 9s - loss: 0.9159 - acc: 0.7389 - val_loss: 5.5336 - val_acc: 0.1210\n",
      "Epoch 40/50\n",
      "6660/6680 [============================>.] - ETA: 0s - loss: 0.9065 - acc: 0.7357Epoch 00039: val_loss did not improve\n",
      "6680/6680 [==============================] - 9s - loss: 0.9089 - acc: 0.7349 - val_loss: 5.5929 - val_acc: 0.1138\n",
      "Epoch 41/50\n",
      "6660/6680 [============================>.] - ETA: 0s - loss: 0.8787 - acc: 0.7536Epoch 00040: val_loss did not improve\n",
      "6680/6680 [==============================] - 9s - loss: 0.8784 - acc: 0.7537 - val_loss: 6.1334 - val_acc: 0.1174\n",
      "Epoch 42/50\n",
      "6660/6680 [============================>.] - ETA: 0s - loss: 0.8640 - acc: 0.7467Epoch 00041: val_loss did not improve\n",
      "6680/6680 [==============================] - 9s - loss: 0.8657 - acc: 0.7466 - val_loss: 5.9799 - val_acc: 0.1257\n",
      "Epoch 43/50\n",
      "6660/6680 [============================>.] - ETA: 0s - loss: 0.8263 - acc: 0.7592Epoch 00042: val_loss did not improve\n",
      "6680/6680 [==============================] - 9s - loss: 0.8273 - acc: 0.7590 - val_loss: 5.5150 - val_acc: 0.1078\n",
      "Epoch 44/50\n",
      "6660/6680 [============================>.] - ETA: 0s - loss: 0.8414 - acc: 0.7602Epoch 00043: val_loss did not improve\n",
      "6680/6680 [==============================] - 9s - loss: 0.8419 - acc: 0.7600 - val_loss: 5.7448 - val_acc: 0.1174\n",
      "Epoch 45/50\n",
      "6660/6680 [============================>.] - ETA: 0s - loss: 0.8037 - acc: 0.7653Epoch 00044: val_loss did not improve\n",
      "6680/6680 [==============================] - 9s - loss: 0.8055 - acc: 0.7648 - val_loss: 6.1154 - val_acc: 0.1126\n",
      "Epoch 46/50\n",
      "6660/6680 [============================>.] - ETA: 0s - loss: 0.7990 - acc: 0.7751Epoch 00045: val_loss did not improve\n",
      "6680/6680 [==============================] - 9s - loss: 0.7993 - acc: 0.7750 - val_loss: 5.9784 - val_acc: 0.1222\n",
      "Epoch 47/50\n",
      "6660/6680 [============================>.] - ETA: 0s - loss: 0.7611 - acc: 0.7848Epoch 00046: val_loss did not improve\n",
      "6680/6680 [==============================] - 9s - loss: 0.7607 - acc: 0.7849 - val_loss: 6.2624 - val_acc: 0.1126\n",
      "Epoch 48/50\n",
      "6660/6680 [============================>.] - ETA: 0s - loss: 0.7309 - acc: 0.7848Epoch 00047: val_loss did not improve\n",
      "6680/6680 [==============================] - 9s - loss: 0.7314 - acc: 0.7847 - val_loss: 6.3671 - val_acc: 0.1174\n",
      "Epoch 49/50\n",
      "6660/6680 [============================>.] - ETA: 0s - loss: 0.7496 - acc: 0.7844Epoch 00048: val_loss did not improve\n",
      "6680/6680 [==============================] - 9s - loss: 0.7486 - acc: 0.7846 - val_loss: 6.2128 - val_acc: 0.1162\n",
      "Epoch 50/50\n",
      "6660/6680 [============================>.] - ETA: 0s - loss: 0.7560 - acc: 0.7824Epoch 00049: val_loss did not improve\n",
      "6680/6680 [==============================] - 9s - loss: 0.7549 - acc: 0.7826 - val_loss: 6.2793 - val_acc: 0.1281\n"
     ]
    },
    {
     "data": {
      "text/plain": [
       "<keras.callbacks.History at 0x7fadd014b828>"
      ]
     },
     "execution_count": 24,
     "metadata": {},
     "output_type": "execute_result"
    }
   ],
   "source": [
    "from keras.callbacks import ModelCheckpoint  \n",
    "\n",
    "### TODO: specify the number of epochs that you would like to use to train the model.\n",
    "\n",
    "epochs = 50\n",
    "\n",
    "### Do NOT modify the code below this line.\n",
    "\n",
    "checkpointer = ModelCheckpoint(filepath='saved_models/weights.best.from_scratch.hdf5', \n",
    "                               verbose=1, save_best_only=True)\n",
    "\n",
    "model.fit(train_tensors, train_targets, \n",
    "          validation_data=(valid_tensors, valid_targets),\n",
    "          epochs=epochs, batch_size=20, callbacks=[checkpointer], verbose=1)"
   ]
  },
  {
   "cell_type": "markdown",
   "metadata": {},
   "source": [
    "### Load the Model with the Best Validation Loss"
   ]
  },
  {
   "cell_type": "code",
   "execution_count": 25,
   "metadata": {
    "collapsed": true
   },
   "outputs": [],
   "source": [
    "model.load_weights('saved_models/weights.best.from_scratch.hdf5')"
   ]
  },
  {
   "cell_type": "markdown",
   "metadata": {},
   "source": [
    "### Test the Model\n",
    "\n",
    "Try out your model on the test dataset of dog images.  Ensure that your test accuracy is greater than 1%."
   ]
  },
  {
   "cell_type": "code",
   "execution_count": 35,
   "metadata": {
    "collapsed": false
   },
   "outputs": [
    {
     "name": "stdout",
     "output_type": "stream",
     "text": [
      "Test accuracy: 11.1244%\n"
     ]
    }
   ],
   "source": [
    "# get index of predicted dog breed for each image in test set\n",
    "dog_breed_predictions = [np.argmax(model.predict(np.expand_dims(tensor, axis=0))) for tensor in test_tensors]\n",
    "\n",
    "# report test accuracy\n",
    "test_accuracy = 100*np.sum(np.array(dog_breed_predictions)==np.argmax(test_targets, axis=1))/len(dog_breed_predictions)\n",
    "print('Test accuracy: %.4f%%' % test_accuracy)"
   ]
  },
  {
   "cell_type": "markdown",
   "metadata": {},
   "source": [
    "---\n",
    "<a id='step4'></a>\n",
    "## Step 4: Use a CNN to Classify Dog Breeds\n",
    "\n",
    "To reduce training time without sacrificing accuracy, we show you how to train a CNN using transfer learning.  In the following step, you will get a chance to use transfer learning to train your own CNN.\n",
    "\n",
    "### Obtain Bottleneck Features"
   ]
  },
  {
   "cell_type": "code",
   "execution_count": 27,
   "metadata": {
    "collapsed": true
   },
   "outputs": [],
   "source": [
    "bottleneck_features = np.load('bottleneck_features/DogVGG16Data.npz')\n",
    "train_VGG16 = bottleneck_features['train']\n",
    "valid_VGG16 = bottleneck_features['valid']\n",
    "test_VGG16 = bottleneck_features['test']"
   ]
  },
  {
   "cell_type": "markdown",
   "metadata": {},
   "source": [
    "### Model Architecture\n",
    "\n",
    "The model uses the the pre-trained VGG-16 model as a fixed feature extractor, where the last convolutional output of VGG-16 is fed as input to our model.  We only add a global average pooling layer and a fully connected layer, where the latter contains one node for each dog category and is equipped with a softmax."
   ]
  },
  {
   "cell_type": "code",
   "execution_count": 28,
   "metadata": {
    "collapsed": false
   },
   "outputs": [
    {
     "name": "stdout",
     "output_type": "stream",
     "text": [
      "_________________________________________________________________\n",
      "Layer (type)                 Output Shape              Param #   \n",
      "=================================================================\n",
      "global_average_pooling2d_1 ( (None, 512)               0         \n",
      "_________________________________________________________________\n",
      "dense_3 (Dense)              (None, 133)               68229     \n",
      "=================================================================\n",
      "Total params: 68,229\n",
      "Trainable params: 68,229\n",
      "Non-trainable params: 0\n",
      "_________________________________________________________________\n"
     ]
    }
   ],
   "source": [
    "VGG16_model = Sequential()\n",
    "VGG16_model.add(GlobalAveragePooling2D(input_shape=train_VGG16.shape[1:]))\n",
    "VGG16_model.add(Dense(133, activation='softmax'))\n",
    "\n",
    "VGG16_model.summary()"
   ]
  },
  {
   "cell_type": "markdown",
   "metadata": {},
   "source": [
    "### Compile the Model"
   ]
  },
  {
   "cell_type": "code",
   "execution_count": 29,
   "metadata": {
    "collapsed": true
   },
   "outputs": [],
   "source": [
    "VGG16_model.compile(loss='categorical_crossentropy', optimizer='rmsprop', metrics=['accuracy'])"
   ]
  },
  {
   "cell_type": "markdown",
   "metadata": {},
   "source": [
    "### Train the Model"
   ]
  },
  {
   "cell_type": "code",
   "execution_count": 30,
   "metadata": {
    "collapsed": false
   },
   "outputs": [
    {
     "name": "stdout",
     "output_type": "stream",
     "text": [
      "Train on 6680 samples, validate on 835 samples\n",
      "Epoch 1/20\n",
      "6180/6680 [==========================>...] - ETA: 0s - loss: 12.4673 - acc: 0.1154Epoch 00000: val_loss improved from inf to 10.77406, saving model to saved_models/weights.best.VGG16.hdf5\n",
      "6680/6680 [==============================] - 0s - loss: 12.3617 - acc: 0.1216 - val_loss: 10.7741 - val_acc: 0.2156\n",
      "Epoch 2/20\n",
      "6160/6680 [==========================>...] - ETA: 0s - loss: 10.2212 - acc: 0.2791Epoch 00001: val_loss improved from 10.77406 to 10.13592, saving model to saved_models/weights.best.VGG16.hdf5\n",
      "6680/6680 [==============================] - 0s - loss: 10.2203 - acc: 0.2798 - val_loss: 10.1359 - val_acc: 0.2826\n",
      "Epoch 3/20\n",
      "6620/6680 [============================>.] - ETA: 0s - loss: 9.7544 - acc: 0.3412Epoch 00002: val_loss improved from 10.13592 to 9.85010, saving model to saved_models/weights.best.VGG16.hdf5\n",
      "6680/6680 [==============================] - 0s - loss: 9.7510 - acc: 0.3410 - val_loss: 9.8501 - val_acc: 0.3293\n",
      "Epoch 4/20\n",
      "6580/6680 [============================>.] - ETA: 0s - loss: 9.5344 - acc: 0.3691Epoch 00003: val_loss improved from 9.85010 to 9.65902, saving model to saved_models/weights.best.VGG16.hdf5\n",
      "6680/6680 [==============================] - 0s - loss: 9.5344 - acc: 0.3690 - val_loss: 9.6590 - val_acc: 0.3341\n",
      "Epoch 5/20\n",
      "6380/6680 [===========================>..] - ETA: 0s - loss: 9.2000 - acc: 0.3936Epoch 00004: val_loss improved from 9.65902 to 9.45931, saving model to saved_models/weights.best.VGG16.hdf5\n",
      "6680/6680 [==============================] - 0s - loss: 9.2289 - acc: 0.3913 - val_loss: 9.4593 - val_acc: 0.3485\n",
      "Epoch 6/20\n",
      "6220/6680 [==========================>...] - ETA: 0s - loss: 9.0407 - acc: 0.4092Epoch 00005: val_loss improved from 9.45931 to 9.33871, saving model to saved_models/weights.best.VGG16.hdf5\n",
      "6680/6680 [==============================] - 0s - loss: 9.0607 - acc: 0.4084 - val_loss: 9.3387 - val_acc: 0.3677\n",
      "Epoch 7/20\n",
      "6480/6680 [============================>.] - ETA: 0s - loss: 8.8530 - acc: 0.4241Epoch 00006: val_loss improved from 9.33871 to 9.18460, saving model to saved_models/weights.best.VGG16.hdf5\n",
      "6680/6680 [==============================] - 0s - loss: 8.8864 - acc: 0.4223 - val_loss: 9.1846 - val_acc: 0.3701\n",
      "Epoch 8/20\n",
      "6160/6680 [==========================>...] - ETA: 0s - loss: 8.7780 - acc: 0.4372Epoch 00007: val_loss improved from 9.18460 to 9.10344, saving model to saved_models/weights.best.VGG16.hdf5\n",
      "6680/6680 [==============================] - 0s - loss: 8.7783 - acc: 0.4370 - val_loss: 9.1034 - val_acc: 0.3784\n",
      "Epoch 9/20\n",
      "6560/6680 [============================>.] - ETA: 0s - loss: 8.6556 - acc: 0.4453Epoch 00008: val_loss improved from 9.10344 to 9.10269, saving model to saved_models/weights.best.VGG16.hdf5\n",
      "6680/6680 [==============================] - 0s - loss: 8.6706 - acc: 0.4440 - val_loss: 9.1027 - val_acc: 0.3820\n",
      "Epoch 10/20\n",
      "6560/6680 [============================>.] - ETA: 0s - loss: 8.6070 - acc: 0.4488Epoch 00009: val_loss improved from 9.10269 to 8.98026, saving model to saved_models/weights.best.VGG16.hdf5\n",
      "6680/6680 [==============================] - 0s - loss: 8.5832 - acc: 0.4499 - val_loss: 8.9803 - val_acc: 0.3892\n",
      "Epoch 11/20\n",
      "6400/6680 [===========================>..] - ETA: 0s - loss: 8.5219 - acc: 0.4573Epoch 00010: val_loss improved from 8.98026 to 8.94250, saving model to saved_models/weights.best.VGG16.hdf5\n",
      "6680/6680 [==============================] - 0s - loss: 8.5174 - acc: 0.4573 - val_loss: 8.9425 - val_acc: 0.4000\n",
      "Epoch 12/20\n",
      "6440/6680 [===========================>..] - ETA: 0s - loss: 8.4227 - acc: 0.4601Epoch 00011: val_loss improved from 8.94250 to 8.90104, saving model to saved_models/weights.best.VGG16.hdf5\n",
      "6680/6680 [==============================] - 0s - loss: 8.4330 - acc: 0.4593 - val_loss: 8.9010 - val_acc: 0.3856\n",
      "Epoch 13/20\n",
      "6260/6680 [===========================>..] - ETA: 0s - loss: 8.2514 - acc: 0.4657Epoch 00012: val_loss improved from 8.90104 to 8.72541, saving model to saved_models/weights.best.VGG16.hdf5\n",
      "6680/6680 [==============================] - 0s - loss: 8.2523 - acc: 0.4662 - val_loss: 8.7254 - val_acc: 0.4036\n",
      "Epoch 14/20\n",
      "6620/6680 [============================>.] - ETA: 0s - loss: 8.1497 - acc: 0.4779Epoch 00013: val_loss improved from 8.72541 to 8.61910, saving model to saved_models/weights.best.VGG16.hdf5\n",
      "6680/6680 [==============================] - 0s - loss: 8.1616 - acc: 0.4771 - val_loss: 8.6191 - val_acc: 0.4180\n",
      "Epoch 15/20\n",
      "6200/6680 [==========================>...] - ETA: 0s - loss: 8.1617 - acc: 0.4818Epoch 00014: val_loss did not improve\n",
      "6680/6680 [==============================] - 0s - loss: 8.1265 - acc: 0.4843 - val_loss: 8.6235 - val_acc: 0.4132\n",
      "Epoch 16/20\n",
      "6440/6680 [===========================>..] - ETA: 0s - loss: 8.0699 - acc: 0.4885Epoch 00015: val_loss improved from 8.61910 to 8.58598, saving model to saved_models/weights.best.VGG16.hdf5\n",
      "6680/6680 [==============================] - 0s - loss: 8.0928 - acc: 0.4868 - val_loss: 8.5860 - val_acc: 0.4012\n",
      "Epoch 17/20\n",
      "6640/6680 [============================>.] - ETA: 0s - loss: 7.9439 - acc: 0.4892Epoch 00016: val_loss improved from 8.58598 to 8.40094, saving model to saved_models/weights.best.VGG16.hdf5\n",
      "6680/6680 [==============================] - 0s - loss: 7.9394 - acc: 0.4892 - val_loss: 8.4009 - val_acc: 0.4240\n",
      "Epoch 18/20\n",
      "6320/6680 [===========================>..] - ETA: 0s - loss: 7.7200 - acc: 0.5032Epoch 00017: val_loss improved from 8.40094 to 8.28811, saving model to saved_models/weights.best.VGG16.hdf5\n",
      "6680/6680 [==============================] - 0s - loss: 7.7309 - acc: 0.5024 - val_loss: 8.2881 - val_acc: 0.4287\n",
      "Epoch 19/20\n",
      "6480/6680 [============================>.] - ETA: 0s - loss: 7.6168 - acc: 0.5125Epoch 00018: val_loss improved from 8.28811 to 8.18082, saving model to saved_models/weights.best.VGG16.hdf5\n",
      "6680/6680 [==============================] - 0s - loss: 7.6145 - acc: 0.5129 - val_loss: 8.1808 - val_acc: 0.4287\n",
      "Epoch 20/20\n",
      "6600/6680 [============================>.] - ETA: 0s - loss: 7.5628 - acc: 0.5215Epoch 00019: val_loss did not improve\n",
      "6680/6680 [==============================] - 0s - loss: 7.5615 - acc: 0.5217 - val_loss: 8.2613 - val_acc: 0.4311\n"
     ]
    },
    {
     "data": {
      "text/plain": [
       "<keras.callbacks.History at 0x7fadc0667748>"
      ]
     },
     "execution_count": 30,
     "metadata": {},
     "output_type": "execute_result"
    }
   ],
   "source": [
    "checkpointer = ModelCheckpoint(filepath='saved_models/weights.best.VGG16.hdf5', \n",
    "                               verbose=1, save_best_only=True)\n",
    "\n",
    "VGG16_model.fit(train_VGG16, train_targets, \n",
    "          validation_data=(valid_VGG16, valid_targets),\n",
    "          epochs=20, batch_size=20, callbacks=[checkpointer], verbose=1)"
   ]
  },
  {
   "cell_type": "markdown",
   "metadata": {},
   "source": [
    "### Load the Model with the Best Validation Loss"
   ]
  },
  {
   "cell_type": "code",
   "execution_count": 31,
   "metadata": {
    "collapsed": false
   },
   "outputs": [],
   "source": [
    "VGG16_model.load_weights('saved_models/weights.best.VGG16.hdf5')"
   ]
  },
  {
   "cell_type": "markdown",
   "metadata": {},
   "source": [
    "### Test the Model\n",
    "\n",
    "Now, we can use the CNN to test how well it identifies breed within our test dataset of dog images.  We print the test accuracy below."
   ]
  },
  {
   "cell_type": "code",
   "execution_count": 32,
   "metadata": {
    "collapsed": false
   },
   "outputs": [
    {
     "name": "stdout",
     "output_type": "stream",
     "text": [
      "Test accuracy: 40.9091%\n"
     ]
    }
   ],
   "source": [
    "# get index of predicted dog breed for each image in test set\n",
    "VGG16_predictions = [np.argmax(VGG16_model.predict(np.expand_dims(feature, axis=0))) for feature in test_VGG16]\n",
    "\n",
    "# report test accuracy\n",
    "test_accuracy = 100*np.sum(np.array(VGG16_predictions)==np.argmax(test_targets, axis=1))/len(VGG16_predictions)\n",
    "print('Test accuracy: %.4f%%' % test_accuracy)"
   ]
  },
  {
   "cell_type": "markdown",
   "metadata": {},
   "source": [
    "### Predict Dog Breed with the Model"
   ]
  },
  {
   "cell_type": "code",
   "execution_count": 33,
   "metadata": {
    "collapsed": true
   },
   "outputs": [],
   "source": [
    "from extract_bottleneck_features import *\n",
    "\n",
    "def VGG16_predict_breed(img_path):\n",
    "    # extract bottleneck features\n",
    "    bottleneck_feature = extract_VGG16(path_to_tensor(img_path))\n",
    "    # obtain predicted vector\n",
    "    predicted_vector = VGG16_model.predict(bottleneck_feature)\n",
    "    # return dog breed that is predicted by the model\n",
    "    return dog_names[np.argmax(predicted_vector)]"
   ]
  },
  {
   "cell_type": "markdown",
   "metadata": {},
   "source": [
    "---\n",
    "<a id='step5'></a>\n",
    "## Step 5: Create a CNN to Classify Dog Breeds (using Transfer Learning)\n",
    "\n",
    "You will now use transfer learning to create a CNN that can identify dog breed from images.  Your CNN must attain at least 60% accuracy on the test set.\n",
    "\n",
    "In Step 4, we used transfer learning to create a CNN using VGG-16 bottleneck features.  In this section, you must use the bottleneck features from a different pre-trained model.  To make things easier for you, we have pre-computed the features for all of the networks that are currently available in Keras:\n",
    "- [VGG-19](https://s3-us-west-1.amazonaws.com/udacity-aind/dog-project/DogVGG19Data.npz) bottleneck features\n",
    "- [ResNet-50](https://s3-us-west-1.amazonaws.com/udacity-aind/dog-project/DogResnet50Data.npz) bottleneck features\n",
    "- [Inception](https://s3-us-west-1.amazonaws.com/udacity-aind/dog-project/DogInceptionV3Data.npz) bottleneck features\n",
    "- [Xception](https://s3-us-west-1.amazonaws.com/udacity-aind/dog-project/DogXceptionData.npz) bottleneck features\n",
    "\n",
    "The files are encoded as such:\n",
    "\n",
    "    Dog{network}Data.npz\n",
    "    \n",
    "where `{network}`, in the above filename, can be one of `VGG19`, `Resnet50`, `InceptionV3`, or `Xception`.  Pick one of the above architectures, download the corresponding bottleneck features, and store the downloaded file in the `bottleneck_features/` folder in the repository.\n",
    "\n",
    "### (IMPLEMENTATION) Obtain Bottleneck Features\n",
    "\n",
    "In the code block below, extract the bottleneck features corresponding to the train, test, and validation sets by running the following:\n",
    "\n",
    "    bottleneck_features = np.load('bottleneck_features/Dog{network}Data.npz')\n",
    "    train_{network} = bottleneck_features['train']\n",
    "    valid_{network} = bottleneck_features['valid']\n",
    "    test_{network} = bottleneck_features['test']"
   ]
  },
  {
   "cell_type": "code",
   "execution_count": 38,
   "metadata": {
    "collapsed": false
   },
   "outputs": [],
   "source": [
    "### TODO: Obtain bottleneck features from another pre-trained CNN.\n",
    "\n",
    "bottleneck_features = np.load('./bottleneck_features/DogVGG16Data.npz')\n",
    "train_VGG19 = bottleneck_features['train']\n",
    "valid_VGG19 = bottleneck_features['valid']\n",
    "test_VGG19 = bottleneck_features['test']"
   ]
  },
  {
   "cell_type": "markdown",
   "metadata": {},
   "source": [
    "### (IMPLEMENTATION) Model Architecture\n",
    "\n",
    "Create a CNN to classify dog breed.  At the end of your code cell block, summarize the layers of your model by executing the line:\n",
    "    \n",
    "        <your model's name>.summary()\n",
    "   \n",
    "__Question 5:__ Outline the steps you took to get to your final CNN architecture and your reasoning at each step.  Describe why you think the architecture is suitable for the current problem.\n",
    "\n",
    "__Answer:__ \n",
    "\n"
   ]
  },
  {
   "cell_type": "code",
   "execution_count": 48,
   "metadata": {
    "collapsed": false
   },
   "outputs": [
    {
     "name": "stdout",
     "output_type": "stream",
     "text": [
      "_________________________________________________________________\n",
      "Layer (type)                 Output Shape              Param #   \n",
      "=================================================================\n",
      "global_average_pooling2d_5 ( (None, 512)               0         \n",
      "_________________________________________________________________\n",
      "dense_10 (Dense)             (None, 256)               131328    \n",
      "_________________________________________________________________\n",
      "dropout_6 (Dropout)          (None, 256)               0         \n",
      "_________________________________________________________________\n",
      "dense_11 (Dense)             (None, 133)               34181     \n",
      "=================================================================\n",
      "Total params: 165,509\n",
      "Trainable params: 165,509\n",
      "Non-trainable params: 0\n",
      "_________________________________________________________________\n"
     ]
    }
   ],
   "source": [
    "### TODO: Define your architecture.\n",
    "\n",
    "from keras import regularizers\n",
    "VGG19_model = Sequential()\n",
    "VGG19_model.add(GlobalAveragePooling2D(input_shape=train_VGG19.shape[1:]))\n",
    "VGG19_model.add(Dense(256,  activation='relu'))\n",
    "VGG19_model.add(Dropout(0.1))\n",
    "VGG19_model.add(Dense(133, activation='softmax'))\n",
    "VGG19_model.summary()"
   ]
  },
  {
   "cell_type": "markdown",
   "metadata": {},
   "source": [
    "### (IMPLEMENTATION) Compile the Model"
   ]
  },
  {
   "cell_type": "code",
   "execution_count": 49,
   "metadata": {
    "collapsed": true
   },
   "outputs": [],
   "source": [
    "### TODO: Compile the model.\n",
    "VGG19_model.compile(loss='categorical_crossentropy', optimizer='rmsprop', metrics=['accuracy'])"
   ]
  },
  {
   "cell_type": "markdown",
   "metadata": {},
   "source": [
    "### (IMPLEMENTATION) Train the Model\n",
    "\n",
    "Train your model in the code cell below.  Use model checkpointing to save the model that attains the best validation loss.  \n",
    "\n",
    "You are welcome to [augment the training data](https://blog.keras.io/building-powerful-image-classification-models-using-very-little-data.html), but this is not a requirement. "
   ]
  },
  {
   "cell_type": "code",
   "execution_count": 52,
   "metadata": {
    "collapsed": false
   },
   "outputs": [
    {
     "name": "stdout",
     "output_type": "stream",
     "text": [
      "Train on 6680 samples, validate on 835 samples\n",
      "Epoch 1/20\n",
      "6660/6680 [============================>.] - ETA: 0s - loss: 0.1227 - acc: 0.9797Epoch 00000: val_loss improved from inf to 2.75591, saving model to saved_models/weights.best.VGG19.hdf5\n",
      "6680/6680 [==============================] - 0s - loss: 0.1249 - acc: 0.9793 - val_loss: 2.7559 - val_acc: 0.7461\n",
      "Epoch 2/20\n",
      "6400/6680 [===========================>..] - ETA: 0s - loss: 0.1030 - acc: 0.9825Epoch 00001: val_loss did not improve\n",
      "6680/6680 [==============================] - 0s - loss: 0.0992 - acc: 0.9828 - val_loss: 2.8377 - val_acc: 0.7605\n",
      "Epoch 3/20\n",
      "6580/6680 [============================>.] - ETA: 0s - loss: 0.1149 - acc: 0.9825Epoch 00002: val_loss did not improve\n",
      "6680/6680 [==============================] - 0s - loss: 0.1204 - acc: 0.9819 - val_loss: 3.0758 - val_acc: 0.7389\n",
      "Epoch 4/20\n",
      "6500/6680 [============================>.] - ETA: 0s - loss: 0.1147 - acc: 0.9814Epoch 00003: val_loss did not improve\n",
      "6680/6680 [==============================] - 0s - loss: 0.1118 - acc: 0.9817 - val_loss: 2.8073 - val_acc: 0.7569\n",
      "Epoch 5/20\n",
      "6640/6680 [============================>.] - ETA: 0s - loss: 0.1138 - acc: 0.9816Epoch 00004: val_loss did not improve\n",
      "6680/6680 [==============================] - 0s - loss: 0.1136 - acc: 0.9816 - val_loss: 2.8236 - val_acc: 0.7617\n",
      "Epoch 6/20\n",
      "6220/6680 [==========================>...] - ETA: 0s - loss: 0.1211 - acc: 0.9814Epoch 00005: val_loss did not improve\n",
      "6680/6680 [==============================] - 0s - loss: 0.1189 - acc: 0.9819 - val_loss: 2.9842 - val_acc: 0.7425\n",
      "Epoch 7/20\n",
      "6200/6680 [==========================>...] - ETA: 0s - loss: 0.1359 - acc: 0.9805Epoch 00006: val_loss improved from 2.75591 to 2.75001, saving model to saved_models/weights.best.VGG19.hdf5\n",
      "6680/6680 [==============================] - 0s - loss: 0.1327 - acc: 0.9807 - val_loss: 2.7500 - val_acc: 0.7545\n",
      "Epoch 8/20\n",
      "6660/6680 [============================>.] - ETA: 0s - loss: 0.1099 - acc: 0.9829Epoch 00007: val_loss did not improve\n",
      "6680/6680 [==============================] - 0s - loss: 0.1095 - acc: 0.9829 - val_loss: 2.8982 - val_acc: 0.7413\n",
      "Epoch 9/20\n",
      "6640/6680 [============================>.] - ETA: 0s - loss: 0.0871 - acc: 0.9863Epoch 00008: val_loss did not improve\n",
      "6680/6680 [==============================] - 0s - loss: 0.0866 - acc: 0.9864 - val_loss: 2.9049 - val_acc: 0.7485\n",
      "Epoch 10/20\n",
      "6200/6680 [==========================>...] - ETA: 0s - loss: 0.0921 - acc: 0.9855Epoch 00009: val_loss did not improve\n",
      "6680/6680 [==============================] - 0s - loss: 0.0932 - acc: 0.9852 - val_loss: 3.1050 - val_acc: 0.7461\n",
      "Epoch 11/20\n",
      "6220/6680 [==========================>...] - ETA: 0s - loss: 0.1082 - acc: 0.9863Epoch 00010: val_loss improved from 2.75001 to 2.74362, saving model to saved_models/weights.best.VGG19.hdf5\n",
      "6680/6680 [==============================] - 0s - loss: 0.1110 - acc: 0.9861 - val_loss: 2.7436 - val_acc: 0.7593\n",
      "Epoch 12/20\n",
      "6180/6680 [==========================>...] - ETA: 0s - loss: 0.1137 - acc: 0.9827Epoch 00011: val_loss did not improve\n",
      "6680/6680 [==============================] - 0s - loss: 0.1157 - acc: 0.9825 - val_loss: 2.7845 - val_acc: 0.7581\n",
      "Epoch 13/20\n",
      "6620/6680 [============================>.] - ETA: 0s - loss: 0.1345 - acc: 0.9787Epoch 00012: val_loss improved from 2.74362 to 2.66313, saving model to saved_models/weights.best.VGG19.hdf5\n",
      "6680/6680 [==============================] - 0s - loss: 0.1358 - acc: 0.9787 - val_loss: 2.6631 - val_acc: 0.7629\n",
      "Epoch 14/20\n",
      "6240/6680 [===========================>..] - ETA: 0s - loss: 0.1169 - acc: 0.9840Epoch 00013: val_loss did not improve\n",
      "6680/6680 [==============================] - 0s - loss: 0.1224 - acc: 0.9837 - val_loss: 2.8397 - val_acc: 0.7533\n",
      "Epoch 15/20\n",
      "6320/6680 [===========================>..] - ETA: 0s - loss: 0.1211 - acc: 0.9818Epoch 00014: val_loss improved from 2.66313 to 2.65868, saving model to saved_models/weights.best.VGG19.hdf5\n",
      "6680/6680 [==============================] - 0s - loss: 0.1213 - acc: 0.9820 - val_loss: 2.6587 - val_acc: 0.7689\n",
      "Epoch 16/20\n",
      "6320/6680 [===========================>..] - ETA: 0s - loss: 0.1118 - acc: 0.9828Epoch 00015: val_loss did not improve\n",
      "6680/6680 [==============================] - 0s - loss: 0.1092 - acc: 0.9831 - val_loss: 2.7026 - val_acc: 0.7749\n",
      "Epoch 17/20\n",
      "6580/6680 [============================>.] - ETA: 0s - loss: 0.0884 - acc: 0.9862Epoch 00016: val_loss did not improve\n",
      "6680/6680 [==============================] - 0s - loss: 0.0896 - acc: 0.9856 - val_loss: 2.7771 - val_acc: 0.7629\n",
      "Epoch 18/20\n",
      "6300/6680 [===========================>..] - ETA: 0s - loss: 0.0936 - acc: 0.9843Epoch 00017: val_loss did not improve\n",
      "6680/6680 [==============================] - 0s - loss: 0.0886 - acc: 0.9850 - val_loss: 2.8133 - val_acc: 0.7689\n",
      "Epoch 19/20\n",
      "6420/6680 [===========================>..] - ETA: 0s - loss: 0.1226 - acc: 0.9822Epoch 00018: val_loss did not improve\n",
      "6680/6680 [==============================] - 0s - loss: 0.1201 - acc: 0.9826 - val_loss: 2.7933 - val_acc: 0.7701\n",
      "Epoch 20/20\n",
      "6600/6680 [============================>.] - ETA: 0s - loss: 0.1119 - acc: 0.9830Epoch 00019: val_loss did not improve\n",
      "6680/6680 [==============================] - 0s - loss: 0.1114 - acc: 0.9831 - val_loss: 2.9182 - val_acc: 0.7665\n"
     ]
    },
    {
     "data": {
      "text/plain": [
       "<keras.callbacks.History at 0x7fada520bcf8>"
      ]
     },
     "execution_count": 52,
     "metadata": {},
     "output_type": "execute_result"
    }
   ],
   "source": [
    "### TODO: Train the model.\n",
    "checkpointer = ModelCheckpoint(filepath='saved_models/weights.best.VGG19.hdf5', \n",
    "                               verbose=1, save_best_only=True)\n",
    "\n",
    "VGG19_model.fit(train_VGG19, train_targets, \n",
    "          validation_data=(valid_VGG19, valid_targets),\n",
    "          epochs=20, batch_size=20, callbacks=[checkpointer], verbose=1)"
   ]
  },
  {
   "cell_type": "markdown",
   "metadata": {},
   "source": [
    "### (IMPLEMENTATION) Load the Model with the Best Validation Loss"
   ]
  },
  {
   "cell_type": "code",
   "execution_count": 53,
   "metadata": {
    "collapsed": true
   },
   "outputs": [],
   "source": [
    "### TODO: Load the model weights with the best validation loss.\n",
    "VGG19_model.load_weights('saved_models/weights.best.VGG19.hdf5')"
   ]
  },
  {
   "cell_type": "markdown",
   "metadata": {},
   "source": [
    "### (IMPLEMENTATION) Test the Model\n",
    "\n",
    "Try out your model on the test dataset of dog images. Ensure that your test accuracy is greater than 60%."
   ]
  },
  {
   "cell_type": "code",
   "execution_count": null,
   "metadata": {
    "collapsed": true
   },
   "outputs": [],
   "source": [
    "### TODO: Calculate classification accuracy on the test dataset.\n",
    "\n"
   ]
  },
  {
   "cell_type": "markdown",
   "metadata": {},
   "source": [
    "### (IMPLEMENTATION) Predict Dog Breed with the Model\n",
    "\n",
    "Write a function that takes an image path as input and returns the dog breed (`Affenpinscher`, `Afghan_hound`, etc) that is predicted by your model.  \n",
    "\n",
    "Similar to the analogous function in Step 5, your function should have three steps:\n",
    "1. Extract the bottleneck features corresponding to the chosen CNN model.\n",
    "2. Supply the bottleneck features as input to the model to return the predicted vector.  Note that the argmax of this prediction vector gives the index of the predicted dog breed.\n",
    "3. Use the `dog_names` array defined in Step 0 of this notebook to return the corresponding breed.\n",
    "\n",
    "The functions to extract the bottleneck features can be found in `extract_bottleneck_features.py`, and they have been imported in an earlier code cell.  To obtain the bottleneck features corresponding to your chosen CNN architecture, you need to use the function\n",
    "\n",
    "    extract_{network}\n",
    "    \n",
    "where `{network}`, in the above filename, should be one of `VGG19`, `Resnet50`, `InceptionV3`, or `Xception`."
   ]
  },
  {
   "cell_type": "code",
   "execution_count": null,
   "metadata": {
    "collapsed": true
   },
   "outputs": [],
   "source": [
    "### TODO: Write a function that takes a path to an image as input\n",
    "### and returns the dog breed that is predicted by the model."
   ]
  },
  {
   "cell_type": "markdown",
   "metadata": {},
   "source": [
    "---\n",
    "<a id='step6'></a>\n",
    "## Step 6: Write your Algorithm\n",
    "\n",
    "Write an algorithm that accepts a file path to an image and first determines whether the image contains a human, dog, or neither.  Then,\n",
    "- if a __dog__ is detected in the image, return the predicted breed.\n",
    "- if a __human__ is detected in the image, return the resembling dog breed.\n",
    "- if __neither__ is detected in the image, provide output that indicates an error.\n",
    "\n",
    "You are welcome to write your own functions for detecting humans and dogs in images, but feel free to use the `face_detector` and `dog_detector` functions developed above.  You are __required__ to use your CNN from Step 5 to predict dog breed.  \n",
    "\n",
    "Some sample output for our algorithm is provided below, but feel free to design your own user experience!\n",
    "\n",
    "![Sample Human Output](images/sample_human_output.png)\n",
    "\n",
    "\n",
    "### (IMPLEMENTATION) Write your Algorithm"
   ]
  },
  {
   "cell_type": "code",
   "execution_count": null,
   "metadata": {
    "collapsed": true
   },
   "outputs": [],
   "source": [
    "### TODO: Write your algorithm.\n",
    "### Feel free to use as many code cells as needed."
   ]
  },
  {
   "cell_type": "markdown",
   "metadata": {},
   "source": [
    "---\n",
    "<a id='step7'></a>\n",
    "## Step 7: Test Your Algorithm\n",
    "\n",
    "In this section, you will take your new algorithm for a spin!  What kind of dog does the algorithm think that __you__ look like?  If you have a dog, does it predict your dog's breed accurately?  If you have a cat, does it mistakenly think that your cat is a dog?\n",
    "\n",
    "### (IMPLEMENTATION) Test Your Algorithm on Sample Images!\n",
    "\n",
    "Test your algorithm at least six images on your computer.  Feel free to use any images you like.  Use at least two human and two dog images.  \n",
    "\n",
    "__Question 6:__ Is the output better than you expected :) ?  Or worse :( ?  Provide at least three possible points of improvement for your algorithm.\n",
    "\n",
    "__Answer:__ "
   ]
  },
  {
   "cell_type": "code",
   "execution_count": null,
   "metadata": {
    "collapsed": true
   },
   "outputs": [],
   "source": [
    "## TODO: Execute your algorithm from Step 6 on\n",
    "## at least 6 images on your computer.\n",
    "## Feel free to use as many code cells as needed."
   ]
  }
 ],
 "metadata": {
  "anaconda-cloud": {},
  "kernelspec": {
   "display_name": "Python [default]",
   "language": "python",
   "name": "python3"
  },
  "language_info": {
   "codemirror_mode": {
    "name": "ipython",
    "version": 3
   },
   "file_extension": ".py",
   "mimetype": "text/x-python",
   "name": "python",
   "nbconvert_exporter": "python",
   "pygments_lexer": "ipython3",
   "version": "3.5.2"
  }
 },
 "nbformat": 4,
 "nbformat_minor": 1
}
