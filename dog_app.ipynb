{
 "cells": [
  {
   "cell_type": "markdown",
   "metadata": {},
   "source": [
    "# Artificial Intelligence Nanodegree\n",
    "\n",
    "## Convolutional Neural Networks\n",
    "\n",
    "## Project: Write an Algorithm for a Dog Identification App \n",
    "\n",
    "---\n",
    "\n",
    "In this notebook, some template code has already been provided for you, and you will need to implement additional functionality to successfully complete this project. You will not need to modify the included code beyond what is requested. Sections that begin with **'(IMPLEMENTATION)'** in the header indicate that the following block of code will require additional functionality which you must provide. Instructions will be provided for each section, and the specifics of the implementation are marked in the code block with a 'TODO' statement. Please be sure to read the instructions carefully! \n",
    "\n",
    "> **Note**: Once you have completed all of the code implementations, you need to finalize your work by exporting the iPython Notebook as an HTML document. Before exporting the notebook to html, all of the code cells need to have been run so that reviewers can see the final implementation and output. You can then export the notebook by using the menu above and navigating to  \\n\",\n",
    "    \"**File -> Download as -> HTML (.html)**. Include the finished document along with this notebook as your submission.\n",
    "\n",
    "In addition to implementing code, there will be questions that you must answer which relate to the project and your implementation. Each section where you will answer a question is preceded by a **'Question X'** header. Carefully read each question and provide thorough answers in the following text boxes that begin with **'Answer:'**. Your project submission will be evaluated based on your answers to each of the questions and the implementation you provide.\n",
    "\n",
    ">**Note:** Code and Markdown cells can be executed using the **Shift + Enter** keyboard shortcut.  Markdown cells can be edited by double-clicking the cell to enter edit mode.\n",
    "\n",
    "The rubric contains _optional_ \"Stand Out Suggestions\" for enhancing the project beyond the minimum requirements. If you decide to pursue the \"Stand Out Suggestions\", you should include the code in this IPython notebook.\n",
    "\n",
    "\n",
    "\n",
    "---\n",
    "### Why We're Here \n",
    "\n",
    "In this notebook, you will make the first steps towards developing an algorithm that could be used as part of a mobile or web app.  At the end of this project, your code will accept any user-supplied image as input.  If a dog is detected in the image, it will provide an estimate of the dog's breed.  If a human is detected, it will provide an estimate of the dog breed that is most resembling.  The image below displays potential sample output of your finished project (... but we expect that each student's algorithm will behave differently!). \n",
    "\n",
    "![Sample Dog Output](images/sample_dog_output.png)\n",
    "\n",
    "In this real-world setting, you will need to piece together a series of models to perform different tasks; for instance, the algorithm that detects humans in an image will be different from the CNN that infers dog breed.  There are many points of possible failure, and no perfect algorithm exists.  Your imperfect solution will nonetheless create a fun user experience!\n",
    "\n",
    "### The Road Ahead\n",
    "\n",
    "We break the notebook into separate steps.  Feel free to use the links below to navigate the notebook.\n",
    "\n",
    "* [Step 0](#step0): Import Datasets\n",
    "* [Step 1](#step1): Detect Humans\n",
    "* [Step 2](#step2): Detect Dogs\n",
    "* [Step 3](#step3): Create a CNN to Classify Dog Breeds (from Scratch)\n",
    "* [Step 4](#step4): Use a CNN to Classify Dog Breeds (using Transfer Learning)\n",
    "* [Step 5](#step5): Create a CNN to Classify Dog Breeds (using Transfer Learning)\n",
    "* [Step 6](#step6): Write your Algorithm\n",
    "* [Step 7](#step7): Test Your Algorithm\n",
    "\n",
    "---\n",
    "<a id='step0'></a>\n",
    "## Step 0: Import Datasets\n",
    "\n",
    "### Import Dog Dataset\n",
    "\n",
    "In the code cell below, we import a dataset of dog images.  We populate a few variables through the use of the `load_files` function from the scikit-learn library:\n",
    "- `train_files`, `valid_files`, `test_files` - numpy arrays containing file paths to images\n",
    "- `train_targets`, `valid_targets`, `test_targets` - numpy arrays containing onehot-encoded classification labels \n",
    "- `dog_names` - list of string-valued dog breed names for translating labels"
   ]
  },
  {
   "cell_type": "code",
   "execution_count": 1,
   "metadata": {},
   "outputs": [
    {
     "name": "stderr",
     "output_type": "stream",
     "text": [
      "Using TensorFlow backend.\n"
     ]
    },
    {
     "name": "stdout",
     "output_type": "stream",
     "text": [
      "There are 133 total dog categories.\n",
      "There are 8351 total dog images.\n",
      "\n",
      "There are 6680 training dog images.\n",
      "There are 835 validation dog images.\n",
      "There are 836 test dog images.\n"
     ]
    }
   ],
   "source": [
    "from sklearn.datasets import load_files       \n",
    "from keras.utils import np_utils\n",
    "import numpy as np\n",
    "from glob import glob\n",
    "\n",
    "# define function to load train, test, and validation datasets\n",
    "def load_dataset(path):\n",
    "    data = load_files(path)\n",
    "    dog_files = np.array(data['filenames'])\n",
    "    dog_targets = np_utils.to_categorical(np.array(data['target']), 133)\n",
    "    return dog_files, dog_targets\n",
    "\n",
    "# load train, test, and validation datasets\n",
    "train_files, train_targets = load_dataset('dogImages/train')\n",
    "valid_files, valid_targets = load_dataset('dogImages/valid')\n",
    "test_files, test_targets = load_dataset('dogImages/test')\n",
    "\n",
    "# load list of dog names\n",
    "dog_names = [item[20:-1] for item in sorted(glob(\"dogImages/train/*/\"))]\n",
    "\n",
    "# print statistics about the dataset\n",
    "print('There are %d total dog categories.' % len(dog_names))\n",
    "print('There are %s total dog images.\\n' % len(np.hstack([train_files, valid_files, test_files])))\n",
    "print('There are %d training dog images.' % len(train_files))\n",
    "print('There are %d validation dog images.' % len(valid_files))\n",
    "print('There are %d test dog images.'% len(test_files))"
   ]
  },
  {
   "cell_type": "markdown",
   "metadata": {},
   "source": [
    "### Import Human Dataset\n",
    "\n",
    "In the code cell below, we import a dataset of human images, where the file paths are stored in the numpy array `human_files`."
   ]
  },
  {
   "cell_type": "code",
   "execution_count": 2,
   "metadata": {},
   "outputs": [
    {
     "name": "stdout",
     "output_type": "stream",
     "text": [
      "There are 13233 total human images.\n"
     ]
    }
   ],
   "source": [
    "import random\n",
    "random.seed(8675309)\n",
    "\n",
    "# load filenames in shuffled human dataset\n",
    "human_files = np.array(glob(\"lfw/*/*\"))\n",
    "random.shuffle(human_files)\n",
    "\n",
    "# print statistics about the dataset\n",
    "print('There are %d total human images.' % len(human_files))"
   ]
  },
  {
   "cell_type": "markdown",
   "metadata": {},
   "source": [
    "---\n",
    "<a id='step1'></a>\n",
    "## Step 1: Detect Humans\n",
    "\n",
    "We use OpenCV's implementation of [Haar feature-based cascade classifiers](http://docs.opencv.org/trunk/d7/d8b/tutorial_py_face_detection.html) to detect human faces in images.  OpenCV provides many pre-trained face detectors, stored as XML files on [github](https://github.com/opencv/opencv/tree/master/data/haarcascades).  We have downloaded one of these detectors and stored it in the `haarcascades` directory.\n",
    "\n",
    "In the next code cell, we demonstrate how to use this detector to find human faces in a sample image."
   ]
  },
  {
   "cell_type": "code",
   "execution_count": 3,
   "metadata": {},
   "outputs": [
    {
     "name": "stdout",
     "output_type": "stream",
     "text": [
      "('Number of faces detected:', 1)\n"
     ]
    },
    {
     "data": {
      "image/png": "[encoded data removed]",
      "text/plain": [
       "<matplotlib.figure.Figure at 0x7fa743ed3a50>"
      ]
     },
     "metadata": {},
     "output_type": "display_data"
    }
   ],
   "source": [
    "import cv2                \n",
    "import matplotlib.pyplot as plt                        \n",
    "%matplotlib inline                               \n",
    "\n",
    "# extract pre-trained face detector\n",
    "face_cascade = cv2.CascadeClassifier('haarcascades/haarcascade_frontalface_alt.xml')\n",
    "\n",
    "# load color (BGR) image\n",
    "img = cv2.imread(human_files[5])\n",
    "# convert BGR image to grayscale\n",
    "gray = cv2.cvtColor(img, cv2.COLOR_BGR2GRAY)\n",
    "\n",
    "# find faces in image\n",
    "faces = face_cascade.detectMultiScale(gray)\n",
    "\n",
    "# print number of faces detected in the image\n",
    "print('Number of faces detected:', len(faces))\n",
    "\n",
    "# get bounding box for each detected face\n",
    "for (x,y,w,h) in faces:\n",
    "    # add bounding box to color image\n",
    "    cv2.rectangle(img,(x,y),(x+w,y+h),(255,0,0),2)\n",
    "    \n",
    "# convert BGR image to RGB for plotting\n",
    "cv_rgb = cv2.cvtColor(img, cv2.COLOR_BGR2RGB)\n",
    "\n",
    "# display the image, along with bounding box\n",
    "plt.imshow(cv_rgb)\n",
    "plt.show()"
   ]
  },
  {
   "cell_type": "markdown",
   "metadata": {},
   "source": [
    "Before using any of the face detectors, it is standard procedure to convert the images to grayscale.  The `detectMultiScale` function executes the classifier stored in `face_cascade` and takes the grayscale image as a parameter.  \n",
    "\n",
    "In the above code, `faces` is a numpy array of detected faces, where each row corresponds to a detected face.  Each detected face is a 1D array with four entries that specifies the bounding box of the detected face.  The first two entries in the array (extracted in the above code as `x` and `y`) specify the horizontal and vertical positions of the top left corner of the bounding box.  The last two entries in the array (extracted here as `w` and `h`) specify the width and height of the box.\n",
    "\n",
    "### Write a Human Face Detector\n",
    "\n",
    "We can use this procedure to write a function that returns `True` if a human face is detected in an image and `False` otherwise.  This function, aptly named `face_detector`, takes a string-valued file path to an image as input and appears in the code block below."
   ]
  },
  {
   "cell_type": "code",
   "execution_count": 4,
   "metadata": {},
   "outputs": [],
   "source": [
    "# returns \"True\" if face is detected in image stored at img_path\n",
    "def face_detector(img_path):\n",
    "    img = cv2.imread(img_path)\n",
    "    gray = cv2.cvtColor(img, cv2.COLOR_BGR2GRAY)\n",
    "    faces = face_cascade.detectMultiScale(gray)\n",
    "    return len(faces) > 0"
   ]
  },
  {
   "cell_type": "markdown",
   "metadata": {},
   "source": [
    "### (IMPLEMENTATION) Assess the Human Face Detector\n",
    "\n",
    "__Question 1:__ Use the code cell below to test the performance of the `face_detector` function.  \n",
    "- What percentage of the first 100 images in `human_files` have a detected human face?  \n",
    "- What percentage of the first 100 images in `dog_files` have a detected human face? \n",
    "\n",
    "Ideally, we would like 100% of human images with a detected face and 0% of dog images with a detected face.  You will see that our algorithm falls short of this goal, but still gives acceptable performance.  We extract the file paths for the first 100 images from each of the datasets and store them in the numpy arrays `human_files_short` and `dog_files_short`.\n",
    "\n",
    "__Answer:__ "
   ]
  },
  {
   "cell_type": "code",
   "execution_count": 5,
   "metadata": {},
   "outputs": [
    {
     "name": "stdout",
     "output_type": "stream",
     "text": [
      "0 % of dog faces detected in human files.\n",
      "0 % of dog faces detected in dog files.\n"
     ]
    }
   ],
   "source": [
    "human_files_short = human_files[:100]\n",
    "dog_files_short = train_files[:100]\n",
    "# Do NOT modify the code above this line.\n",
    "human_file_detection = sum(face_detector(human_file)==True for human_file in human_files_short)\n",
    "dog_file_detection = sum(face_detector(dog_file)==True for dog_file in dog_files_short)\n",
    "\n",
    "print (\"{} % of dog faces detected in human files.\".format(human_file_detection/len(human_files_short)*100))\n",
    "print (\"{} % of dog faces detected in dog files.\".format(dog_file_detection/len(dog_files_short)*100))\n",
    "## TODO: Test the performance of the face_detector algorithm \n",
    "## on the images in human_files_short and dog_files_short."
   ]
  },
  {
   "cell_type": "markdown",
   "metadata": {},
   "source": [
    "__Question 2:__ This algorithmic choice necessitates that we communicate to the user that we accept human images only when they provide a clear view of a face (otherwise, we risk having unneccessarily frustrated users!). In your opinion, is this a reasonable expectation to pose on the user? If not, can you think of a way to detect humans in images that does not necessitate an image with a clearly presented face?\n",
    "\n",
    "__Answer:__\n",
    "\n",
    "We suggest the face detector from OpenCV as a potential way to detect human images in your algorithm, but you are free to explore other approaches, especially approaches that make use of deep learning :).  Please use the code cell below to design and test your own face detection algorithm.  If you decide to pursue this _optional_ task, report performance on each of the datasets."
   ]
  },
  {
   "cell_type": "code",
   "execution_count": 6,
   "metadata": {},
   "outputs": [],
   "source": [
    "## (Optional) TODO: Report the performance of another  \n",
    "## face detection algorithm on the LFW dataset\n",
    "### Feel free to use as many code cells as needed."
   ]
  },
  {
   "cell_type": "markdown",
   "metadata": {},
   "source": [
    "---\n",
    "<a id='step2'></a>\n",
    "## Step 2: Detect Dogs\n",
    "\n",
    "In this section, we use a pre-trained [ResNet-50](http://ethereon.github.io/netscope/#/gist/db945b393d40bfa26006) model to detect dogs in images.  Our first line of code downloads the ResNet-50 model, along with weights that have been trained on [ImageNet](http://www.image-net.org/), a very large, very popular dataset used for image classification and other vision tasks.  ImageNet contains over 10 million URLs, each linking to an image containing an object from one of [1000 categories](https://gist.github.com/yrevar/942d3a0ac09ec9e5eb3a).  Given an image, this pre-trained ResNet-50 model returns a prediction (derived from the available categories in ImageNet) for the object that is contained in the image."
   ]
  },
  {
   "cell_type": "code",
   "execution_count": 7,
   "metadata": {},
   "outputs": [],
   "source": [
    "from keras.applications.resnet50 import ResNet50\n",
    "\n",
    "# define ResNet50 model\n",
    "ResNet50_model = ResNet50(weights='imagenet')"
   ]
  },
  {
   "cell_type": "markdown",
   "metadata": {},
   "source": [
    "### Pre-process the Data\n",
    "\n",
    "When using TensorFlow as backend, Keras CNNs require a 4D array (which we'll also refer to as a 4D tensor) as input, with shape\n",
    "\n",
    "$$\n",
    "(\\text{nb_samples}, \\text{rows}, \\text{columns}, \\text{channels}),\n",
    "$$\n",
    "\n",
    "where `nb_samples` corresponds to the total number of images (or samples), and `rows`, `columns`, and `channels` correspond to the number of rows, columns, and channels for each image, respectively.  \n",
    "\n",
    "The `path_to_tensor` function below takes a string-valued file path to a color image as input and returns a 4D tensor suitable for supplying to a Keras CNN.  The function first loads the image and resizes it to a square image that is $224 \\times 224$ pixels.  Next, the image is converted to an array, which is then resized to a 4D tensor.  In this case, since we are working with color images, each image has three channels.  Likewise, since we are processing a single image (or sample), the returned tensor will always have shape\n",
    "\n",
    "$$\n",
    "(1, 224, 224, 3).\n",
    "$$\n",
    "\n",
    "The `paths_to_tensor` function takes a numpy array of string-valued image paths as input and returns a 4D tensor with shape \n",
    "\n",
    "$$\n",
    "(\\text{nb_samples}, 224, 224, 3).\n",
    "$$\n",
    "\n",
    "Here, `nb_samples` is the number of samples, or number of images, in the supplied array of image paths.  It is best to think of `nb_samples` as the number of 3D tensors (where each 3D tensor corresponds to a different image) in your dataset!"
   ]
  },
  {
   "cell_type": "code",
   "execution_count": 8,
   "metadata": {},
   "outputs": [],
   "source": [
    "from keras.preprocessing import image                  \n",
    "from tqdm import tqdm\n",
    "\n",
    "def path_to_tensor(img_path):\n",
    "    # loads RGB image as PIL.Image.Image type\n",
    "    img = image.load_img(img_path, target_size=(224, 224))\n",
    "    # convert PIL.Image.Image type to 3D tensor with shape (224, 224, 3)\n",
    "    x = image.img_to_array(img)\n",
    "    # convert 3D tensor to 4D tensor with shape (1, 224, 224, 3) and return 4D tensor\n",
    "    return np.expand_dims(x, axis=0)\n",
    "\n",
    "def paths_to_tensor(img_paths):\n",
    "    list_of_tensors = [path_to_tensor(img_path) for img_path in tqdm(img_paths)]\n",
    "    return np.vstack(list_of_tensors)"
   ]
  },
  {
   "cell_type": "markdown",
   "metadata": {},
   "source": [
    "### Making Predictions with ResNet-50\n",
    "\n",
    "Getting the 4D tensor ready for ResNet-50, and for any other pre-trained model in Keras, requires some additional processing.  First, the RGB image is converted to BGR by reordering the channels.  All pre-trained models have the additional normalization step that the mean pixel (expressed in RGB as $[103.939, 116.779, 123.68]$ and calculated from all pixels in all images in ImageNet) must be subtracted from every pixel in each image.  This is implemented in the imported function `preprocess_input`.  If you're curious, you can check the code for `preprocess_input` [here](https://github.com/fchollet/keras/blob/master/keras/applications/imagenet_utils.py).\n",
    "\n",
    "Now that we have a way to format our image for supplying to ResNet-50, we are now ready to use the model to extract the predictions.  This is accomplished with the `predict` method, which returns an array whose $i$-th entry is the model's predicted probability that the image belongs to the $i$-th ImageNet category.  This is implemented in the `ResNet50_predict_labels` function below.\n",
    "\n",
    "By taking the argmax of the predicted probability vector, we obtain an integer corresponding to the model's predicted object class, which we can identify with an object category through the use of this [dictionary](https://gist.github.com/yrevar/942d3a0ac09ec9e5eb3a). "
   ]
  },
  {
   "cell_type": "code",
   "execution_count": 9,
   "metadata": {},
   "outputs": [],
   "source": [
    "from keras.applications.resnet50 import preprocess_input, decode_predictions\n",
    "\n",
    "def ResNet50_predict_labels(img_path):\n",
    "    # returns prediction vector for image located at img_path\n",
    "    img = preprocess_input(path_to_tensor(img_path))\n",
    "    return np.argmax(ResNet50_model.predict(img))"
   ]
  },
  {
   "cell_type": "markdown",
   "metadata": {},
   "source": [
    "### Write a Dog Detector\n",
    "\n",
    "While looking at the [dictionary](https://gist.github.com/yrevar/942d3a0ac09ec9e5eb3a), you will notice that the categories corresponding to dogs appear in an uninterrupted sequence and correspond to dictionary keys 151-268, inclusive, to include all categories from `'Chihuahua'` to `'Mexican hairless'`.  Thus, in order to check to see if an image is predicted to contain a dog by the pre-trained ResNet-50 model, we need only check if the `ResNet50_predict_labels` function above returns a value between 151 and 268 (inclusive).\n",
    "\n",
    "We use these ideas to complete the `dog_detector` function below, which returns `True` if a dog is detected in an image (and `False` if not)."
   ]
  },
  {
   "cell_type": "code",
   "execution_count": 10,
   "metadata": {},
   "outputs": [],
   "source": [
    "### returns \"True\" if a dog is detected in the image stored at img_path\n",
    "def dog_detector(img_path):\n",
    "    prediction = ResNet50_predict_labels(img_path)\n",
    "    return ((prediction <= 268) & (prediction >= 151)) "
   ]
  },
  {
   "cell_type": "markdown",
   "metadata": {},
   "source": [
    "### (IMPLEMENTATION) Assess the Dog Detector\n",
    "\n",
    "__Question 3:__ Use the code cell below to test the performance of your `dog_detector` function.  \n",
    "- What percentage of the images in `human_files_short` have a detected dog?  \n",
    "- What percentage of the images in `dog_files_short` have a detected dog?\n",
    "\n",
    "__Answer:__ "
   ]
  },
  {
   "cell_type": "code",
   "execution_count": 11,
   "metadata": {},
   "outputs": [
    {
     "name": "stdout",
     "output_type": "stream",
     "text": [
      "0 % of dog faces detected in human files.\n",
      "100 % of dog faces detected in dog files.\n"
     ]
    }
   ],
   "source": [
    "### TODO: Test the performance of the dog_detector function\n",
    "### on the images in human_files_short and dog_files_short.\n",
    "human_file_detection = sum(dog_detector(human_file)==True for human_file in human_files_short)\n",
    "dog_file_detection = sum(dog_detector(dog_file)==True for dog_file in dog_files_short)\n",
    "\n",
    "print (\"{} % of dog faces detected in human files.\".format(human_file_detection/len(human_files_short)*100))\n",
    "print (\"{} % of dog faces detected in dog files.\".format(dog_file_detection/len(dog_files_short)*100))"
   ]
  },
  {
   "cell_type": "markdown",
   "metadata": {},
   "source": [
    "---\n",
    "<a id='step3'></a>\n",
    "## Step 3: Create a CNN to Classify Dog Breeds (from Scratch)\n",
    "\n",
    "Now that we have functions for detecting humans and dogs in images, we need a way to predict breed from images.  In this step, you will create a CNN that classifies dog breeds.  You must create your CNN _from scratch_ (so, you can't use transfer learning _yet_!), and you must attain a test accuracy of at least 1%.  In Step 5 of this notebook, you will have the opportunity to use transfer learning to create a CNN that attains greatly improved accuracy.\n",
    "\n",
    "Be careful with adding too many trainable layers!  More parameters means longer training, which means you are more likely to need a GPU to accelerate the training process.  Thankfully, Keras provides a handy estimate of the time that each epoch is likely to take; you can extrapolate this estimate to figure out how long it will take for your algorithm to train. \n",
    "\n",
    "We mention that the task of assigning breed to dogs from images is considered exceptionally challenging.  To see why, consider that *even a human* would have great difficulty in distinguishing between a Brittany and a Welsh Springer Spaniel.  \n",
    "\n",
    "Brittany | Welsh Springer Spaniel\n",
    "- | - \n",
    "<img src=\"images/Brittany_02625.jpg\" width=\"100\"> | <img src=\"images/Welsh_springer_spaniel_08203.jpg\" width=\"200\">\n",
    "\n",
    "It is not difficult to find other dog breed pairs with minimal inter-class variation (for instance, Curly-Coated Retrievers and American Water Spaniels).  \n",
    "\n",
    "Curly-Coated Retriever | American Water Spaniel\n",
    "- | -\n",
    "<img src=\"images/Curly-coated_retriever_03896.jpg\" width=\"200\"> | <img src=\"images/American_water_spaniel_00648.jpg\" width=\"200\">\n",
    "\n",
    "\n",
    "Likewise, recall that labradors come in yellow, chocolate, and black.  Your vision-based algorithm will have to conquer this high intra-class variation to determine how to classify all of these different shades as the same breed.  \n",
    "\n",
    "Yellow Labrador | Chocolate Labrador | Black Labrador\n",
    "- | -\n",
    "<img src=\"images/Labrador_retriever_06457.jpg\" width=\"150\"> | <img src=\"images/Labrador_retriever_06455.jpg\" width=\"240\"> | <img src=\"images/Labrador_retriever_06449.jpg\" width=\"220\">\n",
    "\n",
    "We also mention that random chance presents an exceptionally low bar: setting aside the fact that the classes are slightly imabalanced, a random guess will provide a correct answer roughly 1 in 133 times, which corresponds to an accuracy of less than 1%.  \n",
    "\n",
    "Remember that the practice is far ahead of the theory in deep learning.  Experiment with many different architectures, and trust your intuition.  And, of course, have fun! \n",
    "\n",
    "### Pre-process the Data\n",
    "\n",
    "We rescale the images by dividing every pixel in every image by 255."
   ]
  },
  {
   "cell_type": "code",
   "execution_count": 12,
   "metadata": {},
   "outputs": [
    {
     "name": "stderr",
     "output_type": "stream",
     "text": [
      "100%|██████████| 6680/6680 [00:25<00:00, 260.84it/s]\n",
      "100%|██████████| 835/835 [00:02<00:00, 286.01it/s]\n",
      "100%|██████████| 836/836 [00:02<00:00, 281.89it/s]\n"
     ]
    }
   ],
   "source": [
    "from PIL import ImageFile                            \n",
    "ImageFile.LOAD_TRUNCATED_IMAGES = True                 \n",
    "\n",
    "# pre-process the data for Keras\n",
    "train_tensors = paths_to_tensor(train_files).astype('float32')/255\n",
    "valid_tensors = paths_to_tensor(valid_files).astype('float32')/255\n",
    "test_tensors = paths_to_tensor(test_files).astype('float32')/255"
   ]
  },
  {
   "cell_type": "markdown",
   "metadata": {},
   "source": [
    "### (IMPLEMENTATION) Model Architecture\n",
    "\n",
    "Create a CNN to classify dog breed.  At the end of your code cell block, summarize the layers of your model by executing the line:\n",
    "    \n",
    "        model.summary()\n",
    "\n",
    "We have imported some Python modules to get you started, but feel free to import as many modules as you need.  If you end up getting stuck, here's a hint that specifies a model that trains relatively fast on CPU and attains >1% test accuracy in 5 epochs:\n",
    "\n",
    "![Sample CNN](images/sample_cnn.png)\n",
    "           \n",
    "__Question 4:__ Outline the steps you took to get to your final CNN architecture and your reasoning at each step.  If you chose to use the hinted architecture above, describe why you think that CNN architecture should work well for the image classification task.\n",
    "\n",
    "__Answer:__ "
   ]
  },
  {
   "cell_type": "code",
   "execution_count": 13,
   "metadata": {},
   "outputs": [
    {
     "name": "stdout",
     "output_type": "stream",
     "text": [
      "_________________________________________________________________\n",
      "Layer (type)                 Output Shape              Param #   \n",
      "=================================================================\n",
      "conv2d_1 (Conv2D)            (None, 224, 224, 32)      896       \n",
      "_________________________________________________________________\n",
      "max_pooling2d_2 (MaxPooling2 (None, 74, 74, 32)        0         \n",
      "_________________________________________________________________\n",
      "conv2d_2 (Conv2D)            (None, 74, 74, 32)        9248      \n",
      "_________________________________________________________________\n",
      "max_pooling2d_3 (MaxPooling2 (None, 24, 24, 32)        0         \n",
      "_________________________________________________________________\n",
      "dropout_1 (Dropout)          (None, 24, 24, 32)        0         \n",
      "_________________________________________________________________\n",
      "conv2d_3 (Conv2D)            (None, 24, 24, 16)        4624      \n",
      "_________________________________________________________________\n",
      "max_pooling2d_4 (MaxPooling2 (None, 12, 12, 16)        0         \n",
      "_________________________________________________________________\n",
      "conv2d_4 (Conv2D)            (None, 12, 12, 12)        1740      \n",
      "_________________________________________________________________\n",
      "max_pooling2d_5 (MaxPooling2 (None, 6, 6, 12)          0         \n",
      "_________________________________________________________________\n",
      "dropout_2 (Dropout)          (None, 6, 6, 12)          0         \n",
      "_________________________________________________________________\n",
      "flatten_2 (Flatten)          (None, 432)               0         \n",
      "_________________________________________________________________\n",
      "dense_1 (Dense)              (None, 512)               221696    \n",
      "_________________________________________________________________\n",
      "dropout_3 (Dropout)          (None, 512)               0         \n",
      "_________________________________________________________________\n",
      "dense_2 (Dense)              (None, 133)               68229     \n",
      "=================================================================\n",
      "Total params: 306,433\n",
      "Trainable params: 306,433\n",
      "Non-trainable params: 0\n",
      "_________________________________________________________________\n"
     ]
    }
   ],
   "source": [
    "from keras.layers import Conv2D, MaxPooling2D, GlobalAveragePooling2D\n",
    "from keras.layers import Dropout, Flatten, Dense\n",
    "from keras.models import Sequential\n",
    "\n",
    "model = Sequential()\n",
    "\n",
    "### TODO: Define your architecture.\n",
    "### JORCUS NOTE ###\n",
    "model.add(Conv2D(filters=32,kernel_size=3,padding='same',activation='relu',input_shape=(224,224,3)))\n",
    "model.add(MaxPooling2D(pool_size=3))\n",
    "model.add(Conv2D(filters=32,kernel_size=3,padding='same',activation='relu'))\n",
    "model.add(MaxPooling2D(pool_size=3))\n",
    "model.add(Dropout(0.2))\n",
    "model.add(Conv2D(filters=16,kernel_size=3,padding='same',activation='relu'))\n",
    "model.add(MaxPooling2D(pool_size=2))\n",
    "model.add(Conv2D(filters=12,kernel_size=3,padding='same',activation='relu'))\n",
    "model.add(MaxPooling2D(pool_size=2))\n",
    "model.add(Dropout(0.2))\n",
    "model.add(Flatten())\n",
    "model.add(Dense(512,activation='relu'))\n",
    "model.add(Dropout(0.2))\n",
    "model.add(Dense(133,activation='softmax')) # total number of catagories\n",
    "\n",
    "model.summary()"
   ]
  },
  {
   "cell_type": "markdown",
   "metadata": {},
   "source": [
    "### Compile the Model"
   ]
  },
  {
   "cell_type": "code",
   "execution_count": 14,
   "metadata": {},
   "outputs": [],
   "source": [
    "model.compile(optimizer='rmsprop', loss='categorical_crossentropy', metrics=['accuracy'])"
   ]
  },
  {
   "cell_type": "markdown",
   "metadata": {},
   "source": [
    "### (IMPLEMENTATION) Train the Model\n",
    "\n",
    "Train your model in the code cell below.  Use model checkpointing to save the model that attains the best validation loss.\n",
    "\n",
    "You are welcome to [augment the training data](https://blog.keras.io/building-powerful-image-classification-models-using-very-little-data.html), but this is not a requirement. "
   ]
  },
  {
   "cell_type": "code",
   "execution_count": 15,
   "metadata": {},
   "outputs": [
    {
     "name": "stdout",
     "output_type": "stream",
     "text": [
      "Train on 6680 samples, validate on 835 samples\n",
      "Epoch 1/50\n",
      "6660/6680 [============================>.] - ETA: 0s - loss: 4.8794 - acc: 0.0105Epoch 00000: val_loss improved from inf to 4.84666, saving model to saved_models/weights.best.from_scratch.hdf5\n",
      "6680/6680 [==============================] - 14s - loss: 4.8795 - acc: 0.0105 - val_loss: 4.8467 - val_acc: 0.0228\n",
      "Epoch 2/50\n",
      "6660/6680 [============================>.] - ETA: 0s - loss: 4.6491 - acc: 0.0311Epoch 00001: val_loss improved from 4.84666 to 4.55528, saving model to saved_models/weights.best.from_scratch.hdf5\n",
      "6680/6680 [==============================] - 14s - loss: 4.6483 - acc: 0.0314 - val_loss: 4.5553 - val_acc: 0.0347\n",
      "Epoch 3/50\n",
      "6640/6680 [============================>.] - ETA: 0s - loss: 4.4143 - acc: 0.0506Epoch 00002: val_loss improved from 4.55528 to 4.42772, saving model to saved_models/weights.best.from_scratch.hdf5\n",
      "6680/6680 [==============================] - 14s - loss: 4.4138 - acc: 0.0504 - val_loss: 4.4277 - val_acc: 0.0503\n",
      "Epoch 4/50\n",
      "6640/6680 [============================>.] - ETA: 0s - loss: 4.1808 - acc: 0.0738Epoch 00003: val_loss improved from 4.42772 to 4.22081, saving model to saved_models/weights.best.from_scratch.hdf5\n",
      "6680/6680 [==============================] - 14s - loss: 4.1803 - acc: 0.0744 - val_loss: 4.2208 - val_acc: 0.0826\n",
      "Epoch 5/50\n",
      "6660/6680 [============================>.] - ETA: 0s - loss: 3.9925 - acc: 0.0979Epoch 00004: val_loss improved from 4.22081 to 4.11871, saving model to saved_models/weights.best.from_scratch.hdf5\n",
      "6680/6680 [==============================] - 14s - loss: 3.9923 - acc: 0.0982 - val_loss: 4.1187 - val_acc: 0.0671\n",
      "Epoch 6/50\n",
      "6660/6680 [============================>.] - ETA: 0s - loss: 3.8608 - acc: 0.1206Epoch 00005: val_loss improved from 4.11871 to 4.09476, saving model to saved_models/weights.best.from_scratch.hdf5\n",
      "6680/6680 [==============================] - 14s - loss: 3.8600 - acc: 0.1207 - val_loss: 4.0948 - val_acc: 0.0838\n",
      "Epoch 7/50\n",
      "6660/6680 [============================>.] - ETA: 0s - loss: 3.6826 - acc: 0.1449Epoch 00006: val_loss improved from 4.09476 to 4.01445, saving model to saved_models/weights.best.from_scratch.hdf5\n",
      "6680/6680 [==============================] - 14s - loss: 3.6834 - acc: 0.1446 - val_loss: 4.0145 - val_acc: 0.0934\n",
      "Epoch 8/50\n",
      "6660/6680 [============================>.] - ETA: 0s - loss: 3.5242 - acc: 0.1739Epoch 00007: val_loss did not improve\n",
      "6680/6680 [==============================] - 14s - loss: 3.5255 - acc: 0.1737 - val_loss: 4.0460 - val_acc: 0.1054\n",
      "Epoch 9/50\n",
      "6640/6680 [============================>.] - ETA: 0s - loss: 3.3632 - acc: 0.2006Epoch 00008: val_loss did not improve\n",
      "6680/6680 [==============================] - 14s - loss: 3.3631 - acc: 0.2004 - val_loss: 4.0572 - val_acc: 0.0946\n",
      "Epoch 10/50\n",
      "6660/6680 [============================>.] - ETA: 0s - loss: 3.1995 - acc: 0.2308Epoch 00009: val_loss did not improve\n",
      "6680/6680 [==============================] - 14s - loss: 3.1989 - acc: 0.2308 - val_loss: 4.0431 - val_acc: 0.1042\n",
      "Epoch 11/50\n",
      "6640/6680 [============================>.] - ETA: 0s - loss: 3.0348 - acc: 0.2553Epoch 00010: val_loss improved from 4.01445 to 4.00689, saving model to saved_models/weights.best.from_scratch.hdf5\n",
      "6680/6680 [==============================] - 14s - loss: 3.0369 - acc: 0.2549 - val_loss: 4.0069 - val_acc: 0.1066\n",
      "Epoch 12/50\n",
      "6660/6680 [============================>.] - ETA: 0s - loss: 2.8897 - acc: 0.2814Epoch 00011: val_loss did not improve\n",
      "6680/6680 [==============================] - 14s - loss: 2.8898 - acc: 0.2816 - val_loss: 4.0760 - val_acc: 0.1054\n",
      "Epoch 13/50\n",
      "6660/6680 [============================>.] - ETA: 0s - loss: 2.7645 - acc: 0.3132Epoch 00012: val_loss did not improve\n",
      "6680/6680 [==============================] - 14s - loss: 2.7632 - acc: 0.3139 - val_loss: 4.1653 - val_acc: 0.1066\n",
      "Epoch 14/50\n",
      "6660/6680 [============================>.] - ETA: 0s - loss: 2.6175 - acc: 0.3357Epoch 00013: val_loss did not improve\n",
      "6680/6680 [==============================] - 14s - loss: 2.6198 - acc: 0.3352 - val_loss: 4.1521 - val_acc: 0.1066\n",
      "Epoch 15/50\n",
      "6640/6680 [============================>.] - ETA: 0s - loss: 2.5239 - acc: 0.3619Epoch 00014: val_loss did not improve\n",
      "6680/6680 [==============================] - 14s - loss: 2.5232 - acc: 0.3624 - val_loss: 4.1701 - val_acc: 0.1150\n",
      "Epoch 16/50\n",
      "6640/6680 [============================>.] - ETA: 0s - loss: 2.3722 - acc: 0.3880Epoch 00015: val_loss did not improve\n",
      "6680/6680 [==============================] - 14s - loss: 2.3717 - acc: 0.3879 - val_loss: 4.3329 - val_acc: 0.1042\n",
      "Epoch 17/50\n",
      "6660/6680 [============================>.] - ETA: 0s - loss: 2.2529 - acc: 0.4053Epoch 00016: val_loss did not improve\n",
      "6680/6680 [==============================] - 13s - loss: 2.2524 - acc: 0.4051 - val_loss: 4.5699 - val_acc: 0.1210\n",
      "Epoch 18/50\n",
      "6640/6680 [============================>.] - ETA: 0s - loss: 2.1514 - acc: 0.4343Epoch 00017: val_loss did not improve\n",
      "6680/6680 [==============================] - 14s - loss: 2.1503 - acc: 0.4340 - val_loss: 4.3756 - val_acc: 0.1030\n",
      "Epoch 19/50\n",
      "6640/6680 [============================>.] - ETA: 0s - loss: 2.0303 - acc: 0.4572Epoch 00018: val_loss did not improve\n",
      "6680/6680 [==============================] - 14s - loss: 2.0310 - acc: 0.4573 - val_loss: 4.4603 - val_acc: 0.1078\n",
      "Epoch 20/50\n",
      "6660/6680 [============================>.] - ETA: 0s - loss: 1.9421 - acc: 0.4842Epoch 00019: val_loss did not improve\n",
      "6680/6680 [==============================] - 14s - loss: 1.9447 - acc: 0.4835 - val_loss: 4.5891 - val_acc: 0.1006\n",
      "Epoch 21/50\n",
      "6640/6680 [============================>.] - ETA: 0s - loss: 1.8456 - acc: 0.4986Epoch 00020: val_loss did not improve\n",
      "6680/6680 [==============================] - 14s - loss: 1.8449 - acc: 0.4981 - val_loss: 4.7386 - val_acc: 0.1114\n",
      "Epoch 22/50\n",
      "6660/6680 [============================>.] - ETA: 0s - loss: 1.7230 - acc: 0.5278Epoch 00021: val_loss did not improve\n",
      "6680/6680 [==============================] - 12s - loss: 1.7234 - acc: 0.5275 - val_loss: 4.8324 - val_acc: 0.1078\n",
      "Epoch 23/50\n",
      "6660/6680 [============================>.] - ETA: 0s - loss: 1.7156 - acc: 0.5342Epoch 00022: val_loss did not improve\n",
      "6680/6680 [==============================] - 9s - loss: 1.7189 - acc: 0.5337 - val_loss: 4.7189 - val_acc: 0.1102\n",
      "Epoch 24/50\n",
      "6660/6680 [============================>.] - ETA: 0s - loss: 1.6078 - acc: 0.5566Epoch 00023: val_loss did not improve\n",
      "6680/6680 [==============================] - 9s - loss: 1.6090 - acc: 0.5564 - val_loss: 4.8674 - val_acc: 0.1246\n",
      "Epoch 25/50\n",
      "6660/6680 [============================>.] - ETA: 0s - loss: 1.5432 - acc: 0.5707Epoch 00024: val_loss did not improve\n",
      "6680/6680 [==============================] - 9s - loss: 1.5438 - acc: 0.5708 - val_loss: 4.8265 - val_acc: 0.1090\n",
      "Epoch 26/50\n",
      "6660/6680 [============================>.] - ETA: 0s - loss: 1.4820 - acc: 0.5886Epoch 00025: val_loss did not improve\n",
      "6680/6680 [==============================] - 9s - loss: 1.4821 - acc: 0.5883 - val_loss: 4.8255 - val_acc: 0.1054\n",
      "Epoch 27/50\n",
      "6660/6680 [============================>.] - ETA: 0s - loss: 1.4455 - acc: 0.5905Epoch 00026: val_loss did not improve\n",
      "6680/6680 [==============================] - 9s - loss: 1.4476 - acc: 0.5900 - val_loss: 5.0620 - val_acc: 0.1102\n",
      "Epoch 28/50\n",
      "6660/6680 [============================>.] - ETA: 0s - loss: 1.3858 - acc: 0.6182Epoch 00027: val_loss did not improve\n",
      "6680/6680 [==============================] - 9s - loss: 1.3871 - acc: 0.6175 - val_loss: 5.0639 - val_acc: 0.1138\n",
      "Epoch 29/50\n",
      "6660/6680 [============================>.] - ETA: 0s - loss: 1.3056 - acc: 0.6317Epoch 00028: val_loss did not improve\n",
      "6680/6680 [==============================] - 9s - loss: 1.3067 - acc: 0.6316 - val_loss: 5.2110 - val_acc: 0.0958\n",
      "Epoch 30/50\n",
      "6660/6680 [============================>.] - ETA: 0s - loss: 1.2480 - acc: 0.6502Epoch 00029: val_loss did not improve\n",
      "6680/6680 [==============================] - 9s - loss: 1.2478 - acc: 0.6501 - val_loss: 5.2705 - val_acc: 0.1054\n",
      "Epoch 31/50\n",
      "6660/6680 [============================>.] - ETA: 0s - loss: 1.2130 - acc: 0.6530Epoch 00030: val_loss did not improve\n"
     ]
    },
    {
     "name": "stdout",
     "output_type": "stream",
     "text": [
      "6680/6680 [==============================] - 9s - loss: 1.2128 - acc: 0.6530 - val_loss: 5.4033 - val_acc: 0.1042\n",
      "Epoch 32/50\n",
      "6660/6680 [============================>.] - ETA: 0s - loss: 1.2026 - acc: 0.6586Epoch 00031: val_loss did not improve\n",
      "6680/6680 [==============================] - 9s - loss: 1.2016 - acc: 0.6585 - val_loss: 5.4308 - val_acc: 0.1078\n",
      "Epoch 33/50\n",
      "6660/6680 [============================>.] - ETA: 0s - loss: 1.1587 - acc: 0.6718Epoch 00032: val_loss did not improve\n",
      "6680/6680 [==============================] - 9s - loss: 1.1595 - acc: 0.6713 - val_loss: 5.5802 - val_acc: 0.1138\n",
      "Epoch 34/50\n",
      "6660/6680 [============================>.] - ETA: 0s - loss: 1.1260 - acc: 0.6826Epoch 00033: val_loss did not improve\n",
      "6680/6680 [==============================] - 9s - loss: 1.1251 - acc: 0.6828 - val_loss: 5.5007 - val_acc: 0.1030\n",
      "Epoch 35/50\n",
      "6660/6680 [============================>.] - ETA: 0s - loss: 1.0993 - acc: 0.6898Epoch 00034: val_loss did not improve\n",
      "6680/6680 [==============================] - 9s - loss: 1.1004 - acc: 0.6898 - val_loss: 5.2663 - val_acc: 0.1054\n",
      "Epoch 36/50\n",
      "6660/6680 [============================>.] - ETA: 0s - loss: 1.0506 - acc: 0.7030Epoch 00035: val_loss did not improve\n",
      "6680/6680 [==============================] - 9s - loss: 1.0517 - acc: 0.7030 - val_loss: 6.0270 - val_acc: 0.1090\n",
      "Epoch 37/50\n",
      "6660/6680 [============================>.] - ETA: 0s - loss: 1.0104 - acc: 0.7060Epoch 00036: val_loss did not improve\n",
      "6680/6680 [==============================] - 9s - loss: 1.0104 - acc: 0.7058 - val_loss: 5.6206 - val_acc: 0.1054\n",
      "Epoch 38/50\n",
      "6660/6680 [============================>.] - ETA: 0s - loss: 0.9726 - acc: 0.7195Epoch 00037: val_loss did not improve\n",
      "6680/6680 [==============================] - 9s - loss: 0.9730 - acc: 0.7193 - val_loss: 5.4731 - val_acc: 0.1042\n",
      "Epoch 39/50\n",
      "6660/6680 [============================>.] - ETA: 0s - loss: 0.9574 - acc: 0.7191Epoch 00038: val_loss did not improve\n",
      "6680/6680 [==============================] - 9s - loss: 0.9565 - acc: 0.7193 - val_loss: 5.9411 - val_acc: 0.1102\n",
      "Epoch 40/50\n",
      "6660/6680 [============================>.] - ETA: 0s - loss: 0.9443 - acc: 0.7284Epoch 00039: val_loss did not improve\n",
      "6680/6680 [==============================] - 9s - loss: 0.9434 - acc: 0.7287 - val_loss: 5.6647 - val_acc: 0.1066\n",
      "Epoch 41/50\n",
      "6660/6680 [============================>.] - ETA: 0s - loss: 0.9393 - acc: 0.7272Epoch 00040: val_loss did not improve\n",
      "6680/6680 [==============================] - 9s - loss: 0.9384 - acc: 0.7274 - val_loss: 6.0527 - val_acc: 0.1138\n",
      "Epoch 42/50\n",
      "6660/6680 [============================>.] - ETA: 0s - loss: 0.8680 - acc: 0.7494Epoch 00041: val_loss did not improve\n",
      "6680/6680 [==============================] - 9s - loss: 0.8686 - acc: 0.7491 - val_loss: 5.7986 - val_acc: 0.1198\n",
      "Epoch 43/50\n",
      "6660/6680 [============================>.] - ETA: 0s - loss: 0.8693 - acc: 0.7443Epoch 00042: val_loss did not improve\n",
      "6680/6680 [==============================] - 9s - loss: 0.8696 - acc: 0.7442 - val_loss: 5.9744 - val_acc: 0.1054\n",
      "Epoch 44/50\n",
      "6660/6680 [============================>.] - ETA: 0s - loss: 0.8621 - acc: 0.7491Epoch 00043: val_loss did not improve\n",
      "6680/6680 [==============================] - 9s - loss: 0.8623 - acc: 0.7490 - val_loss: 5.8725 - val_acc: 0.0910\n",
      "Epoch 45/50\n",
      "6660/6680 [============================>.] - ETA: 0s - loss: 0.8285 - acc: 0.7644Epoch 00044: val_loss did not improve\n",
      "6680/6680 [==============================] - 9s - loss: 0.8271 - acc: 0.7648 - val_loss: 5.8777 - val_acc: 0.0946\n",
      "Epoch 46/50\n",
      "6660/6680 [============================>.] - ETA: 0s - loss: 0.8061 - acc: 0.7662Epoch 00045: val_loss did not improve\n",
      "6680/6680 [==============================] - 9s - loss: 0.8066 - acc: 0.7660 - val_loss: 6.1396 - val_acc: 0.1078\n",
      "Epoch 47/50\n",
      "6660/6680 [============================>.] - ETA: 0s - loss: 0.7637 - acc: 0.7782Epoch 00046: val_loss did not improve\n",
      "6680/6680 [==============================] - 9s - loss: 0.7630 - acc: 0.7786 - val_loss: 6.3364 - val_acc: 0.1114\n",
      "Epoch 48/50\n",
      "6660/6680 [============================>.] - ETA: 0s - loss: 0.7449 - acc: 0.7865Epoch 00047: val_loss did not improve\n",
      "6680/6680 [==============================] - 9s - loss: 0.7448 - acc: 0.7864 - val_loss: 6.1664 - val_acc: 0.1126\n",
      "Epoch 49/50\n",
      "6660/6680 [============================>.] - ETA: 0s - loss: 0.7497 - acc: 0.7775Epoch 00048: val_loss did not improve\n",
      "6680/6680 [==============================] - 9s - loss: 0.7499 - acc: 0.7775 - val_loss: 6.4189 - val_acc: 0.1018\n",
      "Epoch 50/50\n",
      "6660/6680 [============================>.] - ETA: 0s - loss: 0.7530 - acc: 0.7811Epoch 00049: val_loss did not improve\n",
      "6680/6680 [==============================] - 9s - loss: 0.7544 - acc: 0.7808 - val_loss: 5.9628 - val_acc: 0.1114\n"
     ]
    },
    {
     "data": {
      "text/plain": [
       "<keras.callbacks.History at 0x7fa704103dd0>"
      ]
     },
     "execution_count": 15,
     "metadata": {},
     "output_type": "execute_result"
    }
   ],
   "source": [
    "from keras.callbacks import ModelCheckpoint  \n",
    "\n",
    "### TODO: specify the number of epochs that you would like to use to train the model.\n",
    "\n",
    "epochs = 50\n",
    "\n",
    "### Do NOT modify the code below this line.\n",
    "\n",
    "checkpointer = ModelCheckpoint(filepath='saved_models/weights.best.from_scratch.hdf5', \n",
    "                               verbose=1, save_best_only=True)\n",
    "\n",
    "model.fit(train_tensors, train_targets, \n",
    "          validation_data=(valid_tensors, valid_targets),\n",
    "          epochs=epochs, batch_size=20, callbacks=[checkpointer], verbose=1)"
   ]
  },
  {
   "cell_type": "markdown",
   "metadata": {},
   "source": [
    "### Load the Model with the Best Validation Loss"
   ]
  },
  {
   "cell_type": "code",
   "execution_count": 16,
   "metadata": {},
   "outputs": [],
   "source": [
    "model.load_weights('saved_models/weights.best.from_scratch.hdf5')"
   ]
  },
  {
   "cell_type": "markdown",
   "metadata": {},
   "source": [
    "### Test the Model\n",
    "\n",
    "Try out your model on the test dataset of dog images.  Ensure that your test accuracy is greater than 1%."
   ]
  },
  {
   "cell_type": "code",
   "execution_count": 17,
   "metadata": {},
   "outputs": [
    {
     "name": "stdout",
     "output_type": "stream",
     "text": [
      "Test accuracy: 10.0000%\n"
     ]
    }
   ],
   "source": [
    "# get index of predicted dog breed for each image in test set\n",
    "dog_breed_predictions = [np.argmax(model.predict(np.expand_dims(tensor, axis=0))) for tensor in test_tensors]\n",
    "\n",
    "# report test accuracy\n",
    "test_accuracy = 100*np.sum(np.array(dog_breed_predictions)==np.argmax(test_targets, axis=1))/len(dog_breed_predictions)\n",
    "print('Test accuracy: %.4f%%' % test_accuracy)"
   ]
  },
  {
   "cell_type": "markdown",
   "metadata": {},
   "source": [
    "---\n",
    "<a id='step4'></a>\n",
    "## Step 4: Use a CNN to Classify Dog Breeds\n",
    "\n",
    "To reduce training time without sacrificing accuracy, we show you how to train a CNN using transfer learning.  In the following step, you will get a chance to use transfer learning to train your own CNN.\n",
    "\n",
    "### Obtain Bottleneck Features"
   ]
  },
  {
   "cell_type": "code",
   "execution_count": 18,
   "metadata": {},
   "outputs": [],
   "source": [
    "bottleneck_features = np.load('bottleneck_features/DogVGG16Data.npz')\n",
    "train_VGG16 = bottleneck_features['train']\n",
    "valid_VGG16 = bottleneck_features['valid']\n",
    "test_VGG16 = bottleneck_features['test']"
   ]
  },
  {
   "cell_type": "markdown",
   "metadata": {},
   "source": [
    "### Model Architecture\n",
    "\n",
    "The model uses the the pre-trained VGG-16 model as a fixed feature extractor, where the last convolutional output of VGG-16 is fed as input to our model.  We only add a global average pooling layer and a fully connected layer, where the latter contains one node for each dog category and is equipped with a softmax."
   ]
  },
  {
   "cell_type": "code",
   "execution_count": 19,
   "metadata": {},
   "outputs": [
    {
     "name": "stdout",
     "output_type": "stream",
     "text": [
      "_________________________________________________________________\n",
      "Layer (type)                 Output Shape              Param #   \n",
      "=================================================================\n",
      "global_average_pooling2d_1 ( (None, 512)               0         \n",
      "_________________________________________________________________\n",
      "dense_3 (Dense)              (None, 133)               68229     \n",
      "=================================================================\n",
      "Total params: 68,229\n",
      "Trainable params: 68,229\n",
      "Non-trainable params: 0\n",
      "_________________________________________________________________\n"
     ]
    }
   ],
   "source": [
    "VGG16_model = Sequential()\n",
    "VGG16_model.add(GlobalAveragePooling2D(input_shape=train_VGG16.shape[1:]))\n",
    "VGG16_model.add(Dense(133, activation='softmax'))\n",
    "\n",
    "VGG16_model.summary()"
   ]
  },
  {
   "cell_type": "markdown",
   "metadata": {},
   "source": [
    "### Compile the Model"
   ]
  },
  {
   "cell_type": "code",
   "execution_count": 20,
   "metadata": {},
   "outputs": [],
   "source": [
    "VGG16_model.compile(loss='categorical_crossentropy', optimizer='rmsprop', metrics=['accuracy'])"
   ]
  },
  {
   "cell_type": "markdown",
   "metadata": {},
   "source": [
    "### Train the Model"
   ]
  },
  {
   "cell_type": "code",
   "execution_count": 21,
   "metadata": {},
   "outputs": [
    {
     "name": "stdout",
     "output_type": "stream",
     "text": [
      "Train on 6680 samples, validate on 835 samples\n",
      "Epoch 1/20\n",
      "6440/6680 [===========================>..] - ETA: 0s - loss: 11.8289 - acc: 0.1415Epoch 00000: val_loss improved from inf to 10.79716, saving model to saved_models/weights.best.VGG16.hdf5\n",
      "6680/6680 [==============================] - 0s - loss: 11.8231 - acc: 0.1428 - val_loss: 10.7972 - val_acc: 0.1976\n",
      "Epoch 2/20\n",
      "6640/6680 [============================>.] - ETA: 0s - loss: 9.7247 - acc: 0.3039Epoch 00001: val_loss improved from 10.79716 to 9.63180, saving model to saved_models/weights.best.VGG16.hdf5\n",
      "6680/6680 [==============================] - 0s - loss: 9.7257 - acc: 0.3037 - val_loss: 9.6318 - val_acc: 0.3030\n",
      "Epoch 3/20\n",
      "6240/6680 [===========================>..] - ETA: 0s - loss: 9.2392 - acc: 0.3598Epoch 00002: val_loss improved from 9.63180 to 9.57438, saving model to saved_models/weights.best.VGG16.hdf5\n",
      "6680/6680 [==============================] - 0s - loss: 9.2558 - acc: 0.3603 - val_loss: 9.5744 - val_acc: 0.3090\n",
      "Epoch 4/20\n",
      "6540/6680 [============================>.] - ETA: 0s - loss: 8.9197 - acc: 0.3922Epoch 00003: val_loss improved from 9.57438 to 9.26341, saving model to saved_models/weights.best.VGG16.hdf5\n",
      "6680/6680 [==============================] - 0s - loss: 8.9313 - acc: 0.3915 - val_loss: 9.2634 - val_acc: 0.3413\n",
      "Epoch 5/20\n",
      "6480/6680 [============================>.] - ETA: 0s - loss: 8.6511 - acc: 0.4188Epoch 00004: val_loss improved from 9.26341 to 9.06449, saving model to saved_models/weights.best.VGG16.hdf5\n",
      "6680/6680 [==============================] - 0s - loss: 8.6505 - acc: 0.4184 - val_loss: 9.0645 - val_acc: 0.3569\n",
      "Epoch 6/20\n",
      "6660/6680 [============================>.] - ETA: 0s - loss: 8.4131 - acc: 0.4374Epoch 00005: val_loss improved from 9.06449 to 8.88218, saving model to saved_models/weights.best.VGG16.hdf5\n",
      "6680/6680 [==============================] - 0s - loss: 8.4181 - acc: 0.4371 - val_loss: 8.8822 - val_acc: 0.3665\n",
      "Epoch 7/20\n",
      "6440/6680 [===========================>..] - ETA: 0s - loss: 8.2759 - acc: 0.4547Epoch 00006: val_loss improved from 8.88218 to 8.75621, saving model to saved_models/weights.best.VGG16.hdf5\n",
      "6680/6680 [==============================] - 0s - loss: 8.2614 - acc: 0.4560 - val_loss: 8.7562 - val_acc: 0.3760\n",
      "Epoch 8/20\n",
      "6520/6680 [============================>.] - ETA: 0s - loss: 8.1205 - acc: 0.4693Epoch 00007: val_loss improved from 8.75621 to 8.69551, saving model to saved_models/weights.best.VGG16.hdf5\n",
      "6680/6680 [==============================] - 0s - loss: 8.1310 - acc: 0.4686 - val_loss: 8.6955 - val_acc: 0.3796\n",
      "Epoch 9/20\n",
      "6560/6680 [============================>.] - ETA: 0s - loss: 7.9689 - acc: 0.4858Epoch 00008: val_loss improved from 8.69551 to 8.62550, saving model to saved_models/weights.best.VGG16.hdf5\n",
      "6680/6680 [==============================] - 0s - loss: 7.9520 - acc: 0.4867 - val_loss: 8.6255 - val_acc: 0.3832\n",
      "Epoch 10/20\n",
      "6500/6680 [============================>.] - ETA: 0s - loss: 7.8691 - acc: 0.4960Epoch 00009: val_loss improved from 8.62550 to 8.53650, saving model to saved_models/weights.best.VGG16.hdf5\n",
      "6680/6680 [==============================] - 0s - loss: 7.9041 - acc: 0.4940 - val_loss: 8.5365 - val_acc: 0.3892\n",
      "Epoch 11/20\n",
      "6520/6680 [============================>.] - ETA: 0s - loss: 7.8374 - acc: 0.4920Epoch 00010: val_loss improved from 8.53650 to 8.45154, saving model to saved_models/weights.best.VGG16.hdf5\n",
      "6680/6680 [==============================] - 0s - loss: 7.8108 - acc: 0.4936 - val_loss: 8.4515 - val_acc: 0.3952\n",
      "Epoch 12/20\n",
      "6640/6680 [============================>.] - ETA: 0s - loss: 7.6607 - acc: 0.5066Epoch 00011: val_loss improved from 8.45154 to 8.31601, saving model to saved_models/weights.best.VGG16.hdf5\n",
      "6680/6680 [==============================] - 0s - loss: 7.6606 - acc: 0.5067 - val_loss: 8.3160 - val_acc: 0.4072\n",
      "Epoch 13/20\n",
      "6660/6680 [============================>.] - ETA: 0s - loss: 7.5162 - acc: 0.5146Epoch 00012: val_loss improved from 8.31601 to 8.21838, saving model to saved_models/weights.best.VGG16.hdf5\n",
      "6680/6680 [==============================] - 0s - loss: 7.5226 - acc: 0.5142 - val_loss: 8.2184 - val_acc: 0.4060\n",
      "Epoch 14/20\n",
      "6480/6680 [============================>.] - ETA: 0s - loss: 7.3963 - acc: 0.5290Epoch 00013: val_loss improved from 8.21838 to 8.16092, saving model to saved_models/weights.best.VGG16.hdf5\n",
      "6680/6680 [==============================] - 0s - loss: 7.3979 - acc: 0.5289 - val_loss: 8.1609 - val_acc: 0.4263\n",
      "Epoch 15/20\n",
      "6600/6680 [============================>.] - ETA: 0s - loss: 7.3604 - acc: 0.5332Epoch 00014: val_loss improved from 8.16092 to 8.06306, saving model to saved_models/weights.best.VGG16.hdf5\n",
      "6680/6680 [==============================] - 0s - loss: 7.3603 - acc: 0.5332 - val_loss: 8.0631 - val_acc: 0.4299\n",
      "Epoch 16/20\n",
      "6440/6680 [===========================>..] - ETA: 0s - loss: 7.3103 - acc: 0.5385Epoch 00015: val_loss did not improve\n",
      "6680/6680 [==============================] - 0s - loss: 7.2996 - acc: 0.5388 - val_loss: 8.0925 - val_acc: 0.4275\n",
      "Epoch 17/20\n",
      "6480/6680 [============================>.] - ETA: 0s - loss: 7.2898 - acc: 0.5407Epoch 00016: val_loss improved from 8.06306 to 7.97702, saving model to saved_models/weights.best.VGG16.hdf5\n",
      "6680/6680 [==============================] - 0s - loss: 7.2688 - acc: 0.5416 - val_loss: 7.9770 - val_acc: 0.4228\n",
      "Epoch 18/20\n",
      "6500/6680 [============================>.] - ETA: 0s - loss: 7.0836 - acc: 0.5458Epoch 00017: val_loss improved from 7.97702 to 7.86050, saving model to saved_models/weights.best.VGG16.hdf5\n",
      "6680/6680 [==============================] - 0s - loss: 7.0799 - acc: 0.5461 - val_loss: 7.8605 - val_acc: 0.4359\n",
      "Epoch 19/20\n",
      "6640/6680 [============================>.] - ETA: 0s - loss: 6.9981 - acc: 0.5577Epoch 00018: val_loss improved from 7.86050 to 7.75741, saving model to saved_models/weights.best.VGG16.hdf5\n",
      "6680/6680 [==============================] - 0s - loss: 6.9924 - acc: 0.5581 - val_loss: 7.7574 - val_acc: 0.4527\n",
      "Epoch 20/20\n",
      "6480/6680 [============================>.] - ETA: 0s - loss: 6.9675 - acc: 0.5633Epoch 00019: val_loss did not improve\n",
      "6680/6680 [==============================] - 0s - loss: 6.9753 - acc: 0.5626 - val_loss: 7.7838 - val_acc: 0.4431\n"
     ]
    },
    {
     "data": {
      "text/plain": [
       "<keras.callbacks.History at 0x7fa6d0752fd0>"
      ]
     },
     "execution_count": 21,
     "metadata": {},
     "output_type": "execute_result"
    }
   ],
   "source": [
    "checkpointer = ModelCheckpoint(filepath='saved_models/weights.best.VGG16.hdf5', \n",
    "                               verbose=1, save_best_only=True)\n",
    "\n",
    "VGG16_model.fit(train_VGG16, train_targets, \n",
    "          validation_data=(valid_VGG16, valid_targets),\n",
    "          epochs=20, batch_size=20, callbacks=[checkpointer], verbose=1)"
   ]
  },
  {
   "cell_type": "markdown",
   "metadata": {},
   "source": [
    "### Load the Model with the Best Validation Loss"
   ]
  },
  {
   "cell_type": "code",
   "execution_count": 22,
   "metadata": {},
   "outputs": [],
   "source": [
    "VGG16_model.load_weights('saved_models/weights.best.VGG16.hdf5')"
   ]
  },
  {
   "cell_type": "markdown",
   "metadata": {},
   "source": [
    "### Test the Model\n",
    "\n",
    "Now, we can use the CNN to test how well it identifies breed within our test dataset of dog images.  We print the test accuracy below."
   ]
  },
  {
   "cell_type": "code",
   "execution_count": 23,
   "metadata": {},
   "outputs": [
    {
     "name": "stdout",
     "output_type": "stream",
     "text": [
      "Test accuracy: 44.0000%\n"
     ]
    }
   ],
   "source": [
    "# get index of predicted dog breed for each image in test set\n",
    "VGG16_predictions = [np.argmax(VGG16_model.predict(np.expand_dims(feature, axis=0))) for feature in test_VGG16]\n",
    "\n",
    "# report test accuracy\n",
    "test_accuracy = 100*np.sum(np.array(VGG16_predictions)==np.argmax(test_targets, axis=1))/len(VGG16_predictions)\n",
    "print('Test accuracy: %.4f%%' % test_accuracy)"
   ]
  },
  {
   "cell_type": "markdown",
   "metadata": {},
   "source": [
    "### Predict Dog Breed with the Model"
   ]
  },
  {
   "cell_type": "code",
   "execution_count": 24,
   "metadata": {},
   "outputs": [],
   "source": [
    "from extract_bottleneck_features import *\n",
    "\n",
    "def VGG16_predict_breed(img_path):\n",
    "    # extract bottleneck features\n",
    "    bottleneck_feature = extract_VGG16(path_to_tensor(img_path))\n",
    "    # obtain predicted vector\n",
    "    predicted_vector = VGG16_model.predict(bottleneck_feature)\n",
    "    # return dog breed that is predicted by the model\n",
    "    return dog_names[np.argmax(predicted_vector)]"
   ]
  },
  {
   "cell_type": "markdown",
   "metadata": {},
   "source": [
    "---\n",
    "<a id='step5'></a>\n",
    "## Step 5: Create a CNN to Classify Dog Breeds (using Transfer Learning)\n",
    "\n",
    "You will now use transfer learning to create a CNN that can identify dog breed from images.  Your CNN must attain at least 60% accuracy on the test set.\n",
    "\n",
    "In Step 4, we used transfer learning to create a CNN using VGG-16 bottleneck features.  In this section, you must use the bottleneck features from a different pre-trained model.  To make things easier for you, we have pre-computed the features for all of the networks that are currently available in Keras:\n",
    "- [VGG-19](https://s3-us-west-1.amazonaws.com/udacity-aind/dog-project/DogVGG19Data.npz) bottleneck features\n",
    "- [ResNet-50](https://s3-us-west-1.amazonaws.com/udacity-aind/dog-project/DogResnet50Data.npz) bottleneck features\n",
    "- [Inception](https://s3-us-west-1.amazonaws.com/udacity-aind/dog-project/DogInceptionV3Data.npz) bottleneck features\n",
    "- [Xception](https://s3-us-west-1.amazonaws.com/udacity-aind/dog-project/DogXceptionData.npz) bottleneck features\n",
    "\n",
    "The files are encoded as such:\n",
    "\n",
    "    Dog{network}Data.npz\n",
    "    \n",
    "where `{network}`, in the above filename, can be one of `VGG19`, `Resnet50`, `InceptionV3`, or `Xception`.  Pick one of the above architectures, download the corresponding bottleneck features, and store the downloaded file in the `bottleneck_features/` folder in the repository.\n",
    "\n",
    "### (IMPLEMENTATION) Obtain Bottleneck Features\n",
    "\n",
    "In the code block below, extract the bottleneck features corresponding to the train, test, and validation sets by running the following:\n",
    "\n",
    "    bottleneck_features = np.load('bottleneck_features/Dog{network}Data.npz')\n",
    "    train_{network} = bottleneck_features['train']\n",
    "    valid_{network} = bottleneck_features['valid']\n",
    "    test_{network} = bottleneck_features['test']"
   ]
  },
  {
   "cell_type": "code",
   "execution_count": 25,
   "metadata": {},
   "outputs": [],
   "source": [
    "### TODO: Obtain bottleneck features from another pre-trained CNN.\n",
    "\n",
    "bottleneck_features = np.load('./bottleneck_features/DogVGG16Data.npz')\n",
    "train_VGG19 = bottleneck_features['train']\n",
    "valid_VGG19 = bottleneck_features['valid']\n",
    "test_VGG19 = bottleneck_features['test']"
   ]
  },
  {
   "cell_type": "markdown",
   "metadata": {},
   "source": [
    "### (IMPLEMENTATION) Model Architecture\n",
    "\n",
    "Create a CNN to classify dog breed.  At the end of your code cell block, summarize the layers of your model by executing the line:\n",
    "    \n",
    "        <your model's name>.summary()\n",
    "   \n",
    "__Question 5:__ Outline the steps you took to get to your final CNN architecture and your reasoning at each step.  Describe why you think the architecture is suitable for the current problem.\n",
    "\n",
    "__Answer:__ \n",
    "\n"
   ]
  },
  {
   "cell_type": "code",
   "execution_count": 26,
   "metadata": {},
   "outputs": [
    {
     "name": "stdout",
     "output_type": "stream",
     "text": [
      "_________________________________________________________________\n",
      "Layer (type)                 Output Shape              Param #   \n",
      "=================================================================\n",
      "global_average_pooling2d_2 ( (None, 512)               0         \n",
      "_________________________________________________________________\n",
      "dense_4 (Dense)              (None, 256)               131328    \n",
      "_________________________________________________________________\n",
      "dropout_4 (Dropout)          (None, 256)               0         \n",
      "_________________________________________________________________\n",
      "dense_5 (Dense)              (None, 133)               34181     \n",
      "=================================================================\n",
      "Total params: 165,509\n",
      "Trainable params: 165,509\n",
      "Non-trainable params: 0\n",
      "_________________________________________________________________\n"
     ]
    }
   ],
   "source": [
    "### TODO: Define your architecture.\n",
    "\n",
    "from keras import regularizers\n",
    "VGG19_model = Sequential()\n",
    "VGG19_model.add(GlobalAveragePooling2D(input_shape=train_VGG19.shape[1:]))\n",
    "VGG19_model.add(Dense(256,  activation='relu'))\n",
    "VGG19_model.add(Dropout(0.1))\n",
    "VGG19_model.add(Dense(133, activation='softmax'))\n",
    "VGG19_model.summary()"
   ]
  },
  {
   "cell_type": "markdown",
   "metadata": {},
   "source": [
    "### (IMPLEMENTATION) Compile the Model"
   ]
  },
  {
   "cell_type": "code",
   "execution_count": 27,
   "metadata": {},
   "outputs": [],
   "source": [
    "### TODO: Compile the model.\n",
    "VGG19_model.compile(loss='categorical_crossentropy', optimizer='rmsprop', metrics=['accuracy'])"
   ]
  },
  {
   "cell_type": "markdown",
   "metadata": {},
   "source": [
    "### (IMPLEMENTATION) Train the Model\n",
    "\n",
    "Train your model in the code cell below.  Use model checkpointing to save the model that attains the best validation loss.  \n",
    "\n",
    "You are welcome to [augment the training data](https://blog.keras.io/building-powerful-image-classification-models-using-very-little-data.html), but this is not a requirement. "
   ]
  },
  {
   "cell_type": "code",
   "execution_count": 28,
   "metadata": {},
   "outputs": [
    {
     "name": "stdout",
     "output_type": "stream",
     "text": [
      "Train on 6680 samples, validate on 835 samples\n",
      "Epoch 1/20\n",
      "6320/6680 [===========================>..] - ETA: 0s - loss: 3.7517 - acc: 0.3008Epoch 00000: val_loss improved from inf to 1.59694, saving model to saved_models/weights.best.VGG19.hdf5\n",
      "6680/6680 [==============================] - 0s - loss: 3.6556 - acc: 0.3120 - val_loss: 1.5969 - val_acc: 0.5713\n",
      "Epoch 2/20\n",
      "6560/6680 [============================>.] - ETA: 0s - loss: 1.2561 - acc: 0.6553Epoch 00001: val_loss improved from 1.59694 to 1.37747, saving model to saved_models/weights.best.VGG19.hdf5\n",
      "6680/6680 [==============================] - 0s - loss: 1.2590 - acc: 0.6548 - val_loss: 1.3775 - val_acc: 0.6431\n",
      "Epoch 3/20\n",
      "6540/6680 [============================>.] - ETA: 0s - loss: 0.8715 - acc: 0.7567Epoch 00002: val_loss improved from 1.37747 to 1.19392, saving model to saved_models/weights.best.VGG19.hdf5\n",
      "6680/6680 [==============================] - 0s - loss: 0.8700 - acc: 0.7573 - val_loss: 1.1939 - val_acc: 0.6994\n",
      "Epoch 4/20\n",
      "6480/6680 [============================>.] - ETA: 0s - loss: 0.6431 - acc: 0.8156Epoch 00003: val_loss did not improve\n",
      "6680/6680 [==============================] - 0s - loss: 0.6436 - acc: 0.8166 - val_loss: 1.3795 - val_acc: 0.6982\n",
      "Epoch 5/20\n",
      "6320/6680 [===========================>..] - ETA: 0s - loss: 0.5163 - acc: 0.8500Epoch 00004: val_loss did not improve\n",
      "6680/6680 [==============================] - 0s - loss: 0.5231 - acc: 0.8488 - val_loss: 1.3576 - val_acc: 0.7174\n",
      "Epoch 6/20\n",
      "6380/6680 [===========================>..] - ETA: 0s - loss: 0.4320 - acc: 0.8715Epoch 00005: val_loss did not improve\n",
      "6680/6680 [==============================] - 0s - loss: 0.4360 - acc: 0.8710 - val_loss: 1.3148 - val_acc: 0.7317\n",
      "Epoch 7/20\n",
      "6520/6680 [============================>.] - ETA: 0s - loss: 0.3813 - acc: 0.8943Epoch 00006: val_loss did not improve\n",
      "6680/6680 [==============================] - 0s - loss: 0.3810 - acc: 0.8942 - val_loss: 1.5631 - val_acc: 0.7222\n",
      "Epoch 8/20\n",
      "6240/6680 [===========================>..] - ETA: 0s - loss: 0.3083 - acc: 0.9098Epoch 00007: val_loss did not improve\n",
      "6680/6680 [==============================] - 0s - loss: 0.3144 - acc: 0.9088 - val_loss: 1.4746 - val_acc: 0.7210\n",
      "Epoch 9/20\n",
      "6260/6680 [===========================>..] - ETA: 0s - loss: 0.2994 - acc: 0.9152Epoch 00008: val_loss did not improve\n",
      "6680/6680 [==============================] - 0s - loss: 0.3009 - acc: 0.9151 - val_loss: 1.5936 - val_acc: 0.7138\n",
      "Epoch 10/20\n",
      "6240/6680 [===========================>..] - ETA: 0s - loss: 0.2703 - acc: 0.9280Epoch 00009: val_loss did not improve\n",
      "6680/6680 [==============================] - 0s - loss: 0.2739 - acc: 0.9277 - val_loss: 1.5667 - val_acc: 0.7305\n",
      "Epoch 11/20\n",
      "6240/6680 [===========================>..] - ETA: 0s - loss: 0.2333 - acc: 0.9321Epoch 00010: val_loss did not improve\n",
      "6680/6680 [==============================] - 0s - loss: 0.2376 - acc: 0.9316 - val_loss: 1.5604 - val_acc: 0.7389\n",
      "Epoch 12/20\n",
      "6660/6680 [============================>.] - ETA: 0s - loss: 0.2358 - acc: 0.9323Epoch 00011: val_loss did not improve\n",
      "6680/6680 [==============================] - 0s - loss: 0.2352 - acc: 0.9325 - val_loss: 1.7181 - val_acc: 0.7353\n",
      "Epoch 13/20\n",
      "6320/6680 [===========================>..] - ETA: 0s - loss: 0.1824 - acc: 0.9472Epoch 00012: val_loss did not improve\n",
      "6680/6680 [==============================] - 0s - loss: 0.1922 - acc: 0.9458 - val_loss: 1.7591 - val_acc: 0.7389\n",
      "Epoch 14/20\n",
      "6240/6680 [===========================>..] - ETA: 0s - loss: 0.2156 - acc: 0.9436Epoch 00013: val_loss did not improve\n",
      "6680/6680 [==============================] - 0s - loss: 0.2084 - acc: 0.9455 - val_loss: 1.6152 - val_acc: 0.7617\n",
      "Epoch 15/20\n",
      "6220/6680 [==========================>...] - ETA: 0s - loss: 0.2161 - acc: 0.9465Epoch 00014: val_loss did not improve\n",
      "6680/6680 [==============================] - 0s - loss: 0.2156 - acc: 0.9458 - val_loss: 1.8396 - val_acc: 0.7401\n",
      "Epoch 16/20\n",
      "6560/6680 [============================>.] - ETA: 0s - loss: 0.2090 - acc: 0.9489Epoch 00015: val_loss did not improve\n",
      "6680/6680 [==============================] - 0s - loss: 0.2093 - acc: 0.9490 - val_loss: 1.8350 - val_acc: 0.7317\n",
      "Epoch 17/20\n",
      "6240/6680 [===========================>..] - ETA: 0s - loss: 0.2095 - acc: 0.9502Epoch 00016: val_loss did not improve\n",
      "6680/6680 [==============================] - 0s - loss: 0.2107 - acc: 0.9501 - val_loss: 2.0718 - val_acc: 0.7246\n",
      "Epoch 18/20\n",
      "6600/6680 [============================>.] - ETA: 0s - loss: 0.1932 - acc: 0.9562Epoch 00017: val_loss did not improve\n",
      "6680/6680 [==============================] - 0s - loss: 0.1965 - acc: 0.9560 - val_loss: 1.8977 - val_acc: 0.7401\n",
      "Epoch 19/20\n",
      "6240/6680 [===========================>..] - ETA: 0s - loss: 0.1604 - acc: 0.9615Epoch 00018: val_loss did not improve\n",
      "6680/6680 [==============================] - 0s - loss: 0.1642 - acc: 0.9608 - val_loss: 1.8563 - val_acc: 0.7461\n",
      "Epoch 20/20\n",
      "6660/6680 [============================>.] - ETA: 0s - loss: 0.1623 - acc: 0.9620Epoch 00019: val_loss did not improve\n",
      "6680/6680 [==============================] - 0s - loss: 0.1623 - acc: 0.9618 - val_loss: 1.9049 - val_acc: 0.7533\n"
     ]
    },
    {
     "data": {
      "text/plain": [
       "<keras.callbacks.History at 0x7fa6b8752990>"
      ]
     },
     "execution_count": 28,
     "metadata": {},
     "output_type": "execute_result"
    }
   ],
   "source": [
    "### TODO: Train the model.\n",
    "checkpointer = ModelCheckpoint(filepath='saved_models/weights.best.VGG19.hdf5', \n",
    "                               verbose=1, save_best_only=True)\n",
    "\n",
    "VGG19_model.fit(train_VGG19, train_targets, \n",
    "          validation_data=(valid_VGG19, valid_targets),\n",
    "          epochs=20, batch_size=20, callbacks=[checkpointer], verbose=1)"
   ]
  },
  {
   "cell_type": "markdown",
   "metadata": {},
   "source": [
    "### (IMPLEMENTATION) Load the Model with the Best Validation Loss"
   ]
  },
  {
   "cell_type": "code",
   "execution_count": 48,
   "metadata": {},
   "outputs": [],
   "source": [
    "### TODO: Load the model weights with the best validation loss.\n",
    "VGG19_model.load_weights('saved_models/weights.best.VGG19.hdf5')"
   ]
  },
  {
   "cell_type": "markdown",
   "metadata": {},
   "source": [
    "### (IMPLEMENTATION) Test the Model\n",
    "\n",
    "Try out your model on the test dataset of dog images. Ensure that your test accuracy is greater than 60%."
   ]
  },
  {
   "cell_type": "code",
   "execution_count": 53,
   "metadata": {},
   "outputs": [
    {
     "name": "stdout",
     "output_type": "stream",
     "text": [
      "Test accuracy: 69.0000%\n"
     ]
    }
   ],
   "source": [
    "### TODO: Calculate classification accuracy on the test dataset.\n",
    "\n",
    "# get index of predicted dog breed for each image in test set\n",
    "VGG19_predictions = [np.argmax(VGG19_model.predict(np.expand_dims(tensor, axis=0))) for tensor in test_VGG19]\n",
    "\n",
    "# report test accuracy\n",
    "test_accuracy = 100*np.sum(np.array(VGG19_predictions)==np.argmax(test_targets, axis=1))/len(VGG19_predictions)\n",
    "print('Test accuracy: %.4f%%' % test_accuracy)"
   ]
  },
  {
   "cell_type": "markdown",
   "metadata": {},
   "source": [
    "### (IMPLEMENTATION) Predict Dog Breed with the Model\n",
    "\n",
    "Write a function that takes an image path as input and returns the dog breed (`Affenpinscher`, `Afghan_hound`, etc) that is predicted by your model.  \n",
    "\n",
    "Similar to the analogous function in Step 5, your function should have three steps:\n",
    "1. Extract the bottleneck features corresponding to the chosen CNN model.\n",
    "2. Supply the bottleneck features as input to the model to return the predicted vector.  Note that the argmax of this prediction vector gives the index of the predicted dog breed.\n",
    "3. Use the `dog_names` array defined in Step 0 of this notebook to return the corresponding breed.\n",
    "\n",
    "The functions to extract the bottleneck features can be found in `extract_bottleneck_features.py`, and they have been imported in an earlier code cell.  To obtain the bottleneck features corresponding to your chosen CNN architecture, you need to use the function\n",
    "\n",
    "    extract_{network}\n",
    "    \n",
    "where `{network}`, in the above filename, should be one of `VGG19`, `Resnet50`, `InceptionV3`, or `Xception`."
   ]
  },
  {
   "cell_type": "code",
   "execution_count": 55,
   "metadata": {},
   "outputs": [],
   "source": [
    "### TODO: Write a function that takes a path to an image as input\n",
    "### and returns the dog breed that is predicted by the model.\n",
    "def VGG19_predict_breed(img_path):\n",
    "    # extract bottleneck features\n",
    "    bottleneck_feature = extract_VGG19(path_to_tensor(img_path))\n",
    "    # obtain predicted vector\n",
    "    predicted_vector = VGG19_model.predict(bottleneck_feature)\n",
    "    # return dog breed that is predicted by the model\n",
    "    return dog_names[np.argmax(predicted_vector)]"
   ]
  },
  {
   "cell_type": "markdown",
   "metadata": {},
   "source": [
    "---\n",
    "<a id='step6'></a>\n",
    "## Step 6: Write your Algorithm\n",
    "\n",
    "Write an algorithm that accepts a file path to an image and first determines whether the image contains a human, dog, or neither.  Then,\n",
    "- if a __dog__ is detected in the image, return the predicted breed.\n",
    "- if a __human__ is detected in the image, return the resembling dog breed.\n",
    "- if __neither__ is detected in the image, provide output that indicates an error.\n",
    "\n",
    "You are welcome to write your own functions for detecting humans and dogs in images, but feel free to use the `face_detector` and `dog_detector` functions developed above.  You are __required__ to use your CNN from Step 5 to predict dog breed.  \n",
    "\n",
    "Some sample output for our algorithm is provided below, but feel free to design your own user experience!\n",
    "\n",
    "![Sample Human Output](images/sample_human_output.png)\n",
    "\n",
    "\n",
    "### (IMPLEMENTATION) Write your Algorithm"
   ]
  },
  {
   "cell_type": "code",
   "execution_count": 32,
   "metadata": {},
   "outputs": [],
   "source": [
    "### TODO: Write your algorithm.\n",
    "### Feel free to use as many code cells as needed."
   ]
  },
  {
   "cell_type": "markdown",
   "metadata": {},
   "source": [
    "---\n",
    "<a id='step7'></a>\n",
    "## Step 7: Test Your Algorithm\n",
    "\n",
    "In this section, you will take your new algorithm for a spin!  What kind of dog does the algorithm think that __you__ look like?  If you have a dog, does it predict your dog's breed accurately?  If you have a cat, does it mistakenly think that your cat is a dog?\n",
    "\n",
    "### (IMPLEMENTATION) Test Your Algorithm on Sample Images!\n",
    "\n",
    "Test your algorithm at least six images on your computer.  Feel free to use any images you like.  Use at least two human and two dog images.  \n",
    "\n",
    "__Question 6:__ Is the output better than you expected :) ?  Or worse :( ?  Provide at least three possible points of improvement for your algorithm.\n",
    "\n",
    "__Answer:__ "
   ]
  },
  {
   "cell_type": "code",
   "execution_count": 56,
   "metadata": {},
   "outputs": [
    {
     "ename": "NameError",
     "evalue": "name 'dog_breed_application' is not defined",
     "output_type": "error",
     "traceback": [
      "\u001b[0;31m---------------------------------------------------------------------------\u001b[0m",
      "\u001b[0;31mNameError\u001b[0m                                 Traceback (most recent call last)",
      "\u001b[0;32m<ipython-input-56-a856f525e91d>\u001b[0m in \u001b[0;36m<module>\u001b[0;34m()\u001b[0m\n\u001b[1;32m      2\u001b[0m \u001b[0;31m## at least 6 images on your computer.\u001b[0m\u001b[0;34m\u001b[0m\u001b[0;34m\u001b[0m\u001b[0m\n\u001b[1;32m      3\u001b[0m \u001b[0;31m## Feel free to use as many code cells as needed.\u001b[0m\u001b[0;34m\u001b[0m\u001b[0;34m\u001b[0m\u001b[0m\n\u001b[0;32m----> 4\u001b[0;31m \u001b[0mdog_breed_application\u001b[0m\u001b[0;34m(\u001b[0m\u001b[0;34m\"demo_test_img/c1.png\"\u001b[0m\u001b[0;34m)\u001b[0m\u001b[0;34m\u001b[0m\u001b[0m\n\u001b[0m",
      "\u001b[0;31mNameError\u001b[0m: name 'dog_breed_application' is not defined"
     ]
    }
   ],
   "source": [
    "## TODO: Execute your algorithm from Step 6 on\n",
    "## at least 6 images on your computer.\n",
    "## Feel free to use as many code cells as needed."
   ]
  }
 ],
 "metadata": {
  "anaconda-cloud": {},
  "kernelspec": {
   "display_name": "Python 2",
   "language": "python",
   "name": "python2"
  },
  "language_info": {
   "codemirror_mode": {
    "name": "ipython",
    "version": 2
   },
   "file_extension": ".py",
   "mimetype": "text/x-python",
   "name": "python",
   "nbconvert_exporter": "python",
   "pygments_lexer": "ipython2",
   "version": "2.7.12"
  }
 },
 "nbformat": 4,
 "nbformat_minor": 1
}
